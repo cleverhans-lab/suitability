{
 "cells": [
  {
   "cell_type": "markdown",
   "id": "7de10492",
   "metadata": {},
   "source": [
    "# Suitability Filter Example"
   ]
  },
  {
   "cell_type": "code",
   "execution_count": 19,
   "id": "ce376b17",
   "metadata": {},
   "outputs": [],
   "source": [
    "import numpy as np\n",
    "import torch\n",
    "import torch.optim as optim\n",
    "import torch.nn as nn\n",
    "from torch.utils.data import DataLoader, Subset\n",
    "from torchvision.datasets import MNIST\n",
    "from torchvision import transforms\n",
    "\n",
    "from filter.suitability_filter import get_sf_features, SuitabilityFilter"
   ]
  },
  {
   "cell_type": "markdown",
   "id": "f5763bc8",
   "metadata": {},
   "source": [
    "## Prepare and train MNIST data & model"
   ]
  },
  {
   "cell_type": "markdown",
   "id": "02bce940",
   "metadata": {},
   "source": [
    "### Data preparation"
   ]
  },
  {
   "cell_type": "code",
   "execution_count": 20,
   "id": "0d4fa69d",
   "metadata": {},
   "outputs": [],
   "source": [
    "NUM_CLASSES = 10  # MNIST has 10 classes (digits 0-9)\n",
    "IMG_SIZE = 28     # MNIST image size\n",
    "BATCH_SIZE = 64   # Adjusted batch size\n",
    "\n",
    "transform = transforms.Compose([\n",
    "    transforms.ToTensor(),\n",
    "    transforms.Normalize((0.1307,), (0.3081,)) # Mean and std for MNIST\n",
    "])\n",
    "\n",
    "mnist_train_full = MNIST(root='./data', train=True, download=True, transform=transform)\n",
    "mnist_test_full = MNIST(root='./data', train=False, download=True, transform=transform)\n",
    "\n",
    "train_indices = list(range(1000, len(mnist_train_full)))\n",
    "train_data = Subset(mnist_train_full, train_indices)\n",
    "cnn_train_loader = DataLoader(train_data, batch_size=BATCH_SIZE, shuffle=True)\n",
    "\n",
    "test_indices = list(range(5000, len(mnist_test_full)))\n",
    "test_data = Subset(mnist_test_full, test_indices)\n",
    "cnn_test_loader = DataLoader(test_data, batch_size=BATCH_SIZE, shuffle=False)"
   ]
  },
  {
   "cell_type": "markdown",
   "id": "e490802d",
   "metadata": {},
   "source": [
    "### Model definition"
   ]
  },
  {
   "cell_type": "code",
   "execution_count": 21,
   "id": "6380eb11",
   "metadata": {},
   "outputs": [],
   "source": [
    "class SimpleCNN(nn.Module):\n",
    "    def __init__(self, num_classes=10):\n",
    "        super(SimpleCNN, self).__init__()\n",
    "        self.conv1 = nn.Conv2d(1, 16, kernel_size=3, stride=1, padding=1) # MNIST is 1 channel\n",
    "        self.relu1 = nn.ReLU()\n",
    "        self.pool1 = nn.MaxPool2d(kernel_size=2, stride=2) # 28x28 -> 14x14\n",
    "        self.conv2 = nn.Conv2d(16, 32, kernel_size=3, stride=1, padding=1)\n",
    "        self.relu2 = nn.ReLU()\n",
    "        self.pool2 = nn.MaxPool2d(kernel_size=2, stride=2) # 14x14 -> 7x7\n",
    "        self.fc = nn.Linear(32 * 7 * 7, num_classes)\n",
    "\n",
    "    def forward(self, x):\n",
    "        x = self.pool1(self.relu1(self.conv1(x)))\n",
    "        x = self.pool2(self.relu2(self.conv2(x)))\n",
    "        x = x.view(-1, 32 * 7 * 7) # Flatten\n",
    "        x = self.fc(x)\n",
    "        return x"
   ]
  },
  {
   "cell_type": "markdown",
   "id": "7286f4e1",
   "metadata": {},
   "source": [
    "### Model training"
   ]
  },
  {
   "cell_type": "code",
   "execution_count": 34,
   "id": "41ab77de",
   "metadata": {},
   "outputs": [
    {
     "name": "stdout",
     "output_type": "stream",
     "text": [
      "\n",
      "Starting SimpleCNN training on cuda...\n"
     ]
    },
    {
     "name": "stdout",
     "output_type": "stream",
     "text": [
      "Epoch [1/1], Step [200/922], Loss: 1.4744\n",
      "Epoch [1/1], Step [400/922], Loss: 0.5030\n",
      "Epoch [1/1], Step [600/922], Loss: 0.3252\n",
      "Epoch [1/1], Step [800/922], Loss: 0.2753\n",
      "SimpleCNN training finished.\n",
      "\n",
      "Accuracy of the trained SimpleCNN on the 5000 test images: 95.86%\n"
     ]
    }
   ],
   "source": [
    "device = torch.device(\"cuda\" if torch.cuda.is_available() else \"cpu\")\n",
    "model = SimpleCNN(num_classes=NUM_CLASSES).to(device)\n",
    "\n",
    "# Hyperparameters for CNN training\n",
    "LEARNING_RATE = 0.0001\n",
    "EPOCHS = 1  \n",
    "\n",
    "criterion = nn.CrossEntropyLoss()\n",
    "optimizer = optim.Adam(model.parameters(), lr=LEARNING_RATE)\n",
    "\n",
    "print(f\"\\nStarting SimpleCNN training on {device}...\")\n",
    "for epoch in range(EPOCHS):\n",
    "    model.train()  \n",
    "    running_loss = 0.0\n",
    "    for i, (images, labels) in enumerate(cnn_train_loader):\n",
    "        images, labels = images.to(device), labels.to(device)\n",
    "\n",
    "        # Forward pass\n",
    "        outputs = model(images)\n",
    "        loss = criterion(outputs, labels)\n",
    "\n",
    "        # Backward and optimize\n",
    "        optimizer.zero_grad()\n",
    "        loss.backward()\n",
    "        optimizer.step()\n",
    "\n",
    "        running_loss += loss.item()\n",
    "        if (i + 1) % 200 == 0: # Print progress every 200 batches\n",
    "            print(f\"Epoch [{epoch+1}/{EPOCHS}], Step [{i+1}/{len(cnn_train_loader)}], Loss: {running_loss/200:.4f}\")\n",
    "            running_loss = 0.0\n",
    "print(\"SimpleCNN training finished.\")\n",
    "\n",
    "# Evaluate the trained CNN on the full test set\n",
    "model.eval() # Set model to evaluation mode\n",
    "correct_cnn = 0\n",
    "total_cnn = 0\n",
    "with torch.no_grad():\n",
    "    for images, labels in cnn_test_loader:\n",
    "        images, labels = images.to(device), labels.to(device)\n",
    "        outputs = model(images)\n",
    "        _, predicted = torch.max(outputs.data, 1)\n",
    "        total_cnn += labels.size(0)\n",
    "        correct_cnn += (predicted == labels).sum().item()\n",
    "\n",
    "cnn_accuracy = 100 * correct_cnn / total_cnn\n",
    "print(f\"\\nAccuracy of the trained SimpleCNN on the {total_cnn} test images: {cnn_accuracy:.2f}%\")"
   ]
  },
  {
   "cell_type": "markdown",
   "id": "0983f5af",
   "metadata": {},
   "source": [
    "## Suitability Filter"
   ]
  },
  {
   "cell_type": "markdown",
   "id": "125e315c",
   "metadata": {},
   "source": [
    "### Define Datasets: suitability filter data (to train prediction correctness classifier) and user data"
   ]
  },
  {
   "cell_type": "code",
   "execution_count": 35,
   "id": "a0bb1c9a",
   "metadata": {},
   "outputs": [
    {
     "name": "stdout",
     "output_type": "stream",
     "text": [
      "Classifier SF data: 1000 samples from MNIST train (not used for model training)\n",
      "User SF data: 5000 samples from MNIST test\n",
      "Test data: 5000 (different) samples from MNIST test\n"
     ]
    }
   ],
   "source": [
    "# classifier_loader_sf: Data to train the prediction correctness classifier\n",
    "classifier_indices_sf = list(range(0, 1000)) # Distinct from train_dataset\n",
    "classifier_dataset_sf = Subset(mnist_train_full, classifier_indices_sf)\n",
    "classifier_loader_sf = DataLoader(classifier_dataset_sf, batch_size=BATCH_SIZE, shuffle=False)\n",
    "\n",
    "# user_loader_sf: User data to be tested\n",
    "user_indices_sf = list(range(0, 5000)) # Distinct from test_dataset\n",
    "user_dataset_sf = Subset(mnist_test_full, user_indices_sf)\n",
    "user_loader_sf = DataLoader(user_dataset_sf, batch_size=BATCH_SIZE, shuffle=False)\n",
    "\n",
    "print(f\"Classifier SF data: {len(classifier_dataset_sf)} samples from MNIST train (not used for model training)\")\n",
    "print(f\"User SF data: {len(user_dataset_sf)} samples from MNIST test\")\n",
    "\n",
    "print(f\"Test data: {len(test_data)} (different) samples from MNIST test\")"
   ]
  },
  {
   "cell_type": "markdown",
   "id": "4ffeaed8",
   "metadata": {},
   "source": [
    "### Feature extraction"
   ]
  },
  {
   "cell_type": "code",
   "execution_count": 36,
   "id": "9c73f369",
   "metadata": {},
   "outputs": [
    {
     "name": "stdout",
     "output_type": "stream",
     "text": [
      "Shape of classifier_features: (1000, 12)\n",
      "SF data correctness: 931 correct out of 1000 (approx accuracy: 0.93)\n",
      "Shape of user_features: (5000, 12)\n",
      "Shape of test_features: (5000, 12)\n",
      "Test correctness: 4793 correct out of 5000 (approx accuracy: 0.96)\n",
      "--> THIS PART WOULD NOT BE KNOWN IN PRACTICE (NO ACCESS TO USER LABELS):\n",
      "    User correctness: 4601 correct out of 5000 (approx accuracy: 0.92)\n"
     ]
    }
   ],
   "source": [
    "device = torch.device(\"cuda\" if torch.cuda.is_available() else \"cpu\")\n",
    "\n",
    "classifier_feats, classifier_corr = get_sf_features(classifier_loader_sf, model, device)\n",
    "print(f\"Shape of classifier_features: {classifier_feats.shape}\")\n",
    "print(f\"SF data correctness: {np.sum(classifier_corr)} correct out of {len(classifier_corr)} (approx accuracy: {np.mean(classifier_corr):.2f})\")\n",
    "\n",
    "user_feats, user_corr = get_sf_features(user_loader_sf, model, device)\n",
    "print(f\"Shape of user_features: {user_feats.shape}\")\n",
    "\n",
    "test_feats, test_corr = get_sf_features(cnn_test_loader, model, device)\n",
    "print(f\"Shape of test_features: {test_feats.shape}\")\n",
    "print(f\"Test correctness: {np.sum(test_corr)} correct out of {len(test_corr)} (approx accuracy: {np.mean(test_corr):.2f})\")\n",
    "\n",
    "print(\"--> THIS PART WOULD NOT BE KNOWN IN PRACTICE (NO ACCESS TO USER LABELS):\")\n",
    "print(f\"    User correctness: {np.sum(user_corr)} correct out of {len(user_corr)} (approx accuracy: {np.mean(user_corr):.2f})\")"
   ]
  },
  {
   "cell_type": "markdown",
   "id": "836f6768",
   "metadata": {},
   "source": [
    "### Suitability filter test"
   ]
  },
  {
   "cell_type": "code",
   "execution_count": 41,
   "id": "d7aec1db",
   "metadata": {},
   "outputs": [
    {
     "name": "stdout",
     "output_type": "stream",
     "text": [
      "\n",
      "Suitability Test Results:\n",
      "  t_statistic: 11.7601\n",
      "  p_value: 1.0000\n",
      "  reject_null: False\n",
      "\n",
      "User data is NOT proven non-inferior (p=1.0000 >= 0.05). We cannot conclude that the new data is within the non-inferiority margin of the test data.\n"
     ]
    }
   ],
   "source": [
    "suitability_filter = SuitabilityFilter(\n",
    "    test_features=test_feats,\n",
    "    test_corr=test_corr, # Correctness of primary model on SF's \"test\" data\n",
    "    classifier_features=classifier_feats,\n",
    "    classifier_corr=classifier_corr, # Correctness of primary model on SF's \"classifier training\" data\n",
    "    device=device,\n",
    "    normalize=True\n",
    ")\n",
    "\n",
    "suitability_filter.train_classifier(classifier=\"logistic_regression\", calibrated=True)\n",
    "test_margin = 0\n",
    "\n",
    "results = suitability_filter.suitability_test(user_features=user_feats, margin=test_margin)\n",
    "print(\"\\nSuitability Test Results:\")\n",
    "for key, value in results.items():\n",
    "    if isinstance(value, (int, float)):\n",
    "        print(f\"  {key}: {value:.4f}\")\n",
    "    else:\n",
    "        print(f\"  {key}: {value}\")\n",
    "\n",
    "alpha = 0.05\n",
    "\n",
    "if results['p_value'] < alpha:\n",
    "    print(f\"\\nUser data IS considered non-inferior (p={results['p_value']:.4f} < {alpha}). The new data is not significantly worse than the test data by more than the margin.\")\n",
    "else:\n",
    "    print(f\"\\nUser data is NOT proven non-inferior (p={results['p_value']:.4f} >= {alpha}). We cannot conclude that the new data is within the non-inferiority margin of the test data.\")"
   ]
  },
  {
   "cell_type": "markdown",
   "id": "683483c6",
   "metadata": {},
   "source": [
    "Note that the above is expected since the accuracy on user data (92% in this example) is lower than on test data (96%) and hence the performance on user data is in fact not non-inferior (i.e., it is inferior) to the performance on test data with a margin of 0."
   ]
  }
 ],
 "metadata": {
  "kernelspec": {
   "display_name": "Python 3 (ipykernel)",
   "language": "python",
   "name": "python3"
  },
  "language_info": {
   "codemirror_mode": {
    "name": "ipython",
    "version": 3
   },
   "file_extension": ".py",
   "mimetype": "text/x-python",
   "name": "python",
   "nbconvert_exporter": "python",
   "pygments_lexer": "ipython3",
   "version": "3.11.9"
  }
 },
 "nbformat": 4,
 "nbformat_minor": 5
}
