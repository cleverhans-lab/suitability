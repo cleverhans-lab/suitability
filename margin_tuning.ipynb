{
 "cells": [
  {
   "cell_type": "code",
   "execution_count": 1,
   "metadata": {},
   "outputs": [],
   "source": [
    "import importlib\n",
    "import random\n",
    "\n",
    "import matplotlib.pyplot as plt\n",
    "import numpy as np\n",
    "import pandas as pd\n",
    "import seaborn as sns\n",
    "import torch\n",
    "from examples.models.initializer import initialize_torchvision_model\n",
    "from sklearn.linear_model import LogisticRegression\n",
    "from sklearn.metrics import accuracy_score, roc_auc_score\n",
    "from sklearn.model_selection import train_test_split\n",
    "\n",
    "import suitability.filter.tests as ftests\n",
    "from suitability.datasets.wilds import get_wilds_dataset\n",
    "from suitability.filter.sample_signals import (\n",
    "    ConfidenceSignal,\n",
    "    CorrectnessSignal,\n",
    "    DecisionBoundarySignal,\n",
    "    LogitSignal,\n",
    "    TrainingDynamicsSignal,\n",
    ")\n",
    "\n",
    "# importlib.reload(ftests)\n",
    "\n",
    "random.seed(32)\n",
    "np.random.seed(32)"
   ]
  },
  {
   "cell_type": "code",
   "execution_count": 2,
   "metadata": {},
   "outputs": [],
   "source": [
    "def remove_prefix_from_state_dict(state_dict, prefix=\"model.\"):\n",
    "    \"\"\"\n",
    "    Remove the prefix from the keys in state_dict if it exists.\n",
    "    \"\"\"\n",
    "    new_state_dict = {}\n",
    "    for k, v in state_dict.items():\n",
    "        if k.startswith(prefix):\n",
    "            new_state_dict[k[len(prefix) :]] = v\n",
    "        else:\n",
    "            new_state_dict[k] = v\n",
    "    return new_state_dict"
   ]
  },
  {
   "cell_type": "markdown",
   "metadata": {},
   "source": [
    "## Train Regressor"
   ]
  },
  {
   "cell_type": "code",
   "execution_count": 3,
   "metadata": {},
   "outputs": [
    {
     "name": "stderr",
     "output_type": "stream",
     "text": [
      "/mfsnic/u/apouget/envs/test/lib/python3.11/site-packages/torchvision/models/_utils.py:208: UserWarning: The parameter 'pretrained' is deprecated since 0.13 and may be removed in the future, please use 'weights' instead.\n",
      "  warnings.warn(\n",
      "/mfsnic/u/apouget/envs/test/lib/python3.11/site-packages/torchvision/models/_utils.py:223: UserWarning: Arguments other than a weight enum or `None` for 'weights' are deprecated since 0.13 and may be removed in the future. The current behavior is equivalent to passing `weights=DenseNet121_Weights.IMAGENET1K_V1`. You can also use `weights=DenseNet121_Weights.DEFAULT` to get the most up-to-date weights.\n",
      "  warnings.warn(msg)\n"
     ]
    }
   ],
   "source": [
    "root_dir = \"/mfsnic/u/apouget/data/\"\n",
    "dataset_name = \"fmow\"\n",
    "device = torch.device(\"cuda\" if torch.cuda.is_available() else \"cpu\")\n",
    "\n",
    "model = initialize_torchvision_model(\"densenet121\", d_out=62, pretrained=True)\n",
    "state_dict = remove_prefix_from_state_dict(\n",
    "    torch.load(\n",
    "        f\"/mfsnic/u/apouget/experiments/{dataset_name}/{dataset_name}_seed:0_epoch:last_model.pth\"\n",
    "    )[\"algorithm\"]\n",
    ")\n",
    "model.load_state_dict(state_dict)\n",
    "model = model.to(device)\n",
    "model.eval()\n",
    "\n",
    "tuning_data = get_wilds_dataset(\n",
    "    dataset_name,\n",
    "    root_dir,\n",
    "    \"val\",\n",
    "    batch_size=64,\n",
    "    shuffle=False,\n",
    "    num_workers=4,\n",
    ")"
   ]
  },
  {
   "cell_type": "code",
   "execution_count": 4,
   "metadata": {},
   "outputs": [],
   "source": [
    "corr_signal = CorrectnessSignal(model, device)\n",
    "corr = corr_signal.evaluate(tuning_data)\n",
    "\n",
    "conf_mean_signal = ConfidenceSignal(model, device)\n",
    "conf_mean = conf_mean_signal.evaluate(tuning_data, \"mean\")\n",
    "conf_max_signal = ConfidenceSignal(model, device)\n",
    "conf_max = conf_max_signal.evaluate(tuning_data, \"max\")\n",
    "conf_std_signal = ConfidenceSignal(model, device)\n",
    "conf_std = conf_std_signal.evaluate(tuning_data, \"std\")\n",
    "\n",
    "logit_mean_signal = LogitSignal(model, device)\n",
    "logit_mean = logit_mean_signal.evaluate(tuning_data, \"mean\")\n",
    "logit_max_signal = LogitSignal(model, device)\n",
    "logit_max = logit_max_signal.evaluate(tuning_data, \"max\")\n",
    "logit_std_signal = LogitSignal(model, device)\n",
    "logit_std = logit_std_signal.evaluate(tuning_data, \"std\")"
   ]
  },
  {
   "cell_type": "code",
   "execution_count": 5,
   "metadata": {},
   "outputs": [
    {
     "name": "stdout",
     "output_type": "stream",
     "text": [
      "Accuracy: 0.77\n",
      "AUC Score: 0.84\n"
     ]
    }
   ],
   "source": [
    "labels = corr\n",
    "features = np.column_stack(\n",
    "    (conf_mean, conf_max, conf_std, logit_mean, logit_max, logit_std)\n",
    ")\n",
    "\n",
    "# Split data into training and test sets (e.g., 80% train, 20% test)\n",
    "X_train, X_test, y_train, y_test = train_test_split(\n",
    "    features, labels, test_size=0.2, random_state=42\n",
    ")\n",
    "\n",
    "# Initialize the logistic regression model\n",
    "regression_model = LogisticRegression()\n",
    "\n",
    "# Train the model\n",
    "regression_model.fit(X_train, y_train)\n",
    "\n",
    "# Predict probabilities on the test set (probability of label being 1)\n",
    "y_pred_prob = regression_model.predict_proba(X_test)[:, 1]  # Get the probability for class 1\n",
    "\n",
    "# Evaluate model performance (accuracy, AUC)\n",
    "accuracy = accuracy_score(y_test, regression_model.predict(X_test))\n",
    "auc_score = roc_auc_score(y_test, y_pred_prob)\n",
    "\n",
    "print(f\"Accuracy: {accuracy:.2f}\")\n",
    "print(f\"AUC Score: {auc_score:.2f}\")"
   ]
  },
  {
   "cell_type": "code",
   "execution_count": 6,
   "metadata": {},
   "outputs": [
    {
     "name": "stdout",
     "output_type": "stream",
     "text": [
      "[[ 0.01126965  0.53624409  0.07029164 -0.11657969  0.30686658 -0.82704263]]\n"
     ]
    }
   ],
   "source": [
    "print(regression_model.coef_)"
   ]
  },
  {
   "cell_type": "markdown",
   "metadata": {},
   "source": [
    "## Hypothesis Test (Region)"
   ]
  },
  {
   "cell_type": "code",
   "execution_count": 7,
   "metadata": {},
   "outputs": [
    {
     "name": "stdout",
     "output_type": "stream",
     "text": [
      "Region Asia: 55.35% correct\n",
      "Region Europe: 56.16% correct\n",
      "Region Africa: 32.78% correct\n",
      "Region Americas: 56.72% correct\n",
      "Region Oceania: 59.46% correct\n"
     ]
    }
   ],
   "source": [
    "# Determine data splits\n",
    "REGIONS = [\"Asia\", \"Europe\", \"Africa\", \"Americas\", \"Oceania\"]\n",
    "\n",
    "# Construct suitability filter\n",
    "max_confidences = {}\n",
    "mean_confidences = {}\n",
    "std_confidences = {}\n",
    "max_logits = {}\n",
    "mean_logits = {}\n",
    "std_logits = {}\n",
    "correctness = {}\n",
    "\n",
    "for region in REGIONS:\n",
    "    data = get_wilds_dataset(\n",
    "        dataset_name,\n",
    "        root_dir,\n",
    "        \"test\",\n",
    "        batch_size=64,\n",
    "        shuffle=False,\n",
    "        num_workers=4,\n",
    "        pre_filter={\"region\": region},\n",
    "    )\n",
    "\n",
    "    max_conf_signal = ConfidenceSignal(model, device)\n",
    "    max_confidences[region] = max_conf_signal.evaluate(data, \"max\")\n",
    "    mean_conf_signal = ConfidenceSignal(model, device)\n",
    "    mean_confidences[region] = mean_conf_signal.evaluate(data, \"mean\")\n",
    "    std_conf_signal = ConfidenceSignal(model, device)\n",
    "    std_confidences[region] = std_conf_signal.evaluate(data, \"std\")\n",
    "\n",
    "    max_logit_signal = LogitSignal(model, device)\n",
    "    max_logits[region] = max_logit_signal.evaluate(data, \"max\")\n",
    "    mean_logit_signal = LogitSignal(model, device)\n",
    "    mean_logits[region] = mean_logit_signal.evaluate(data, \"mean\")\n",
    "    std_logit_signal = LogitSignal(model, device)\n",
    "    std_logits[region] = std_logit_signal.evaluate(data, \"std\")\n",
    "\n",
    "    corr_signal = CorrectnessSignal(model, device)\n",
    "    correctness[region] = corr_signal.evaluate(data)\n",
    "\n",
    "    print(f\"Region {region}: {np.mean(correctness[region]) * 100:.2f}% correct\")"
   ]
  },
  {
   "cell_type": "code",
   "execution_count": 8,
   "metadata": {},
   "outputs": [
    {
     "name": "stdout",
     "output_type": "stream",
     "text": [
      "Region Asia:\n",
      "{'t_statistic': 0.0, 'p_value': 0.5, 'reject_null': False}\n",
      "Region Europe:\n",
      "{'t_statistic': 0.10714194258314827, 'p_value': 0.5426608091037977, 'reject_null': False}\n",
      "Region Africa:\n",
      "{'t_statistic': 15.745534722498704, 'p_value': 1.0, 'reject_null': False}\n",
      "Region Americas:\n",
      "{'t_statistic': -2.337889395799582, 'p_value': 0.009705644222248646, 'reject_null': True}\n",
      "Region Oceania:\n",
      "{'t_statistic': -2.6109898433017076, 'p_value': 0.004593450617763993, 'reject_null': True}\n"
     ]
    }
   ],
   "source": [
    "test_fn = ftests.non_inferiority_ttest\n",
    "\n",
    "test_country = \"Asia\"\n",
    "\n",
    "# Test the suitability filter\n",
    "bm_features = np.column_stack((mean_confidences[test_country], max_confidences[test_country], std_confidences[test_country], mean_logits[test_country], max_logits[test_country], std_logits[test_country]))\n",
    "bm_dist = regression_model.predict_proba(bm_features)[:, 1]\n",
    "\n",
    "for region in REGIONS:\n",
    "    print(f\"Region {region}:\")\n",
    "    reg_features = np.column_stack((mean_confidences[region], max_confidences[region], std_confidences[region], mean_logits[region], max_logits[region], std_logits[region]))\n",
    "    reg_dist = regression_model.predict_proba(reg_features)[:, 1]\n",
    "    print(test_fn(bm_dist, reg_dist, margin=0))"
   ]
  },
  {
   "cell_type": "code",
   "execution_count": 13,
   "metadata": {},
   "outputs": [
    {
     "name": "stdout",
     "output_type": "stream",
     "text": [
      "Required sample size: 1054.9202969889313\n"
     ]
    }
   ],
   "source": [
    "from statsmodels.stats.power import TTestIndPower\n",
    "\n",
    "# Create an instance of the power analysis class\n",
    "analysis = TTestIndPower()\n",
    "\n",
    "effect_size = (np.mean(reg_dist) - np.mean(bm_dist)) / np.std(bm_dist)\n",
    "\n",
    "# Perform power analysis\n",
    "sample_size = analysis.solve_power(effect_size=effect_size, alpha=0.05, power=0.8, alternative='larger')\n",
    "print('Required sample size:', sample_size)\n"
   ]
  },
  {
   "cell_type": "code",
   "execution_count": 14,
   "metadata": {},
   "outputs": [
    {
     "name": "stdout",
     "output_type": "stream",
     "text": [
      "Required sample size: 1056.554464586732\n"
     ]
    }
   ],
   "source": [
    "sample2, sample1 = bm_dist, reg_dist\n",
    "\n",
    "mean1, mean2 = np.mean(sample1), np.mean(sample2)\n",
    "std1, std2 = np.std(sample1, ddof=1), np.std(sample2, ddof=1)\n",
    "n1, n2 = len(sample1), len(sample2)\n",
    "\n",
    "pooled_std = np.sqrt(((n1 - 1) * std1**2 + (n2 - 1) * std2**2) / (n1 + n2 - 2))\n",
    "effect_size = (mean1 - mean2) / pooled_std\n",
    "\n",
    "sample_size = analysis.solve_power(effect_size=effect_size, alpha=0.05, power=0.8, alternative='larger')\n",
    "print('Required sample size:', sample_size)"
   ]
  },
  {
   "cell_type": "code",
   "execution_count": 32,
   "metadata": {},
   "outputs": [],
   "source": [
    "def glass_delta(sample1, sample2, margin, increase_good=True):\n",
    "    \"\"\"\n",
    "    Calculate Glass's delta effect size for two samples.\n",
    "    sample1: array of values for sample 1 (typically validation data provided by model provider)\n",
    "    sample2: array of values for sample 2 (typically sample provided by model user)\n",
    "    margin: non-inferiority margin\n",
    "    increase_good: if True, Ho: mean2 <= mean1. Else Ho: mean2 >= mean1.\n",
    "    Returns: Glass's delta effect size\n",
    "    \"\"\"\n",
    "    mean1, mean2 = np.mean(sample1), np.mean(sample2)\n",
    "    std1 = np.std(sample1, ddof=1)\n",
    "\n",
    "    if increase_good:\n",
    "        glass_delta = (mean2 - (mean1 - margin)) / std1\n",
    "    else:\n",
    "        glass_delta = (mean2 - (mean1 + margin)) / std1\n",
    "\n",
    "    return glass_delta\n",
    "\n",
    "def cohen_d(sample1, sample2, margin, increase_good=True):\n",
    "    \"\"\"\n",
    "    Calculate Cohen's d effect size for two samples.\n",
    "    sample1: array of values for sample 1 (typically validation data provided by model provider)\n",
    "    sample2: array of values for sample 2 (typically sample provided by model user)\n",
    "    margin: non-inferiority margin\n",
    "    increase_good: if True, Ho: mean2 <= mean1. Else Ho: mean2 >= mean1.\n",
    "    Returns: Cohen's d effect size\n",
    "    \"\"\"\n",
    "    mean1, mean2 = np.mean(sample1), np.mean(sample2)\n",
    "    std1, std2 = np.std(sample1, ddof=1), np.std(sample2, ddof=1)\n",
    "    n1, n2 = len(sample1), len(sample2)\n",
    "\n",
    "    pooled_std = np.sqrt(((n1 - 1) * std1**2 + (n2 - 1) * std2**2) / (n1 + n2 - 2))\n",
    "    \n",
    "    if increase_good:\n",
    "        cohens_d = (mean2 - (mean1 - margin)) / pooled_std\n",
    "    else:\n",
    "        cohens_d = (mean2 - (mean1 + margin)) / pooled_std\n",
    "\n",
    "    return cohens_d\n",
    "\n",
    "def sample_size_non_inferiority_ttest(\n",
    "    sample1, sample2, power, margin=0, increase_good=True, alpha=0.05, effect_method=\"cohen\"\n",
    "):\n",
    "    \"\"\"\n",
    "    Calculate the required sample size for a given power level.\n",
    "    sample1: array of values for sample 1 (typically validation data provided by model provider)\n",
    "    sample2: array of values for sample 2 (typically sample provided by model user)\n",
    "    power: desired power level (probability of rejecting the null hypothesis when it is false)\n",
    "    margin: non-inferiority margin\n",
    "    increase_good: if True, Ho: mean2 <= mean1. Else Ho: mean2 >= mean1.\n",
    "    alpha: significance level\n",
    "    effect_method: method to calculate effect size. Options: \"cohen\" or \"glass\"\n",
    "    Returns: required sample size for sample2\n",
    "    \"\"\"\n",
    "    if effect_method == \"cohen\":\n",
    "        effect_size = cohen_d(sample1, sample2, margin, increase_good)\n",
    "    elif effect_method == \"glass\":\n",
    "        effect_size = glass_delta(sample1, sample2, margin, increase_good)\n",
    "    else:\n",
    "        raise ValueError(\"Invalid effect size method.\")\n",
    "\n",
    "    if abs(effect_size) < 1e-6:\n",
    "        raise ValueError(\"Effect size too small for power analysis.\")\n",
    "\n",
    "    analysis = TTestIndPower()\n",
    "\n",
    "    ratio = analysis.solve_power(\n",
    "        effect_size=effect_size,\n",
    "        nobs1=len(sample1),\n",
    "        alpha=alpha,\n",
    "        power=power,\n",
    "        alternative=\"larger\" if increase_good else \"smaller\",\n",
    "        ratio=None,\n",
    "    )\n",
    "\n",
    "    return int(np.ceil(len(sample1)*ratio))\n",
    "\n",
    "def power_non_inferiority_ttest(sample1, sample2, margin=0, alpha=0.05, increase_good=True, effect_method=\"cohen\"):\n",
    "    \"\"\"\n",
    "    Calculate the power of a non-inferiority t-test.\n",
    "    sample1: array of values for sample 1 (typically validation data provided by model provider)\n",
    "    sample2: array of values for sample 2 (typically sample provided by model user)\n",
    "    margin: non-inferiority margin\n",
    "    alpha: significance level\n",
    "    increase_good: if True, Ho: mean2 <= mean1. Else Ho: mean2 >= mean1.\n",
    "    effect_method: method to calculate effect size. Options: \"cohen\" or \"glass\"\n",
    "    Returns: power of the non-inferiority t-test\n",
    "    \"\"\"\n",
    "    if effect_method == \"cohen\":\n",
    "        effect_size = cohen_d(sample1, sample2, margin, increase_good)\n",
    "    elif effect_method == \"glass\":\n",
    "        effect_size = glass_delta(sample1, sample2, margin, increase_good)\n",
    "    else:\n",
    "        raise ValueError(\"Invalid effect size method.\")\n",
    "\n",
    "    if abs(effect_size) < 1e-6:\n",
    "        raise ValueError(\"Effect size too small for power analysis.\")\n",
    "\n",
    "    analysis = TTestIndPower()\n",
    "\n",
    "    power = analysis.solve_power(\n",
    "        effect_size=effect_size,\n",
    "        nobs1=len(sample1),\n",
    "        alpha=alpha,\n",
    "        alternative=\"larger\" if increase_good else \"smaller\",\n",
    "        ratio=len(sample2) / len(sample1),\n",
    "    )\n",
    "\n",
    "    return power"
   ]
  },
  {
   "cell_type": "code",
   "execution_count": 33,
   "metadata": {},
   "outputs": [
    {
     "data": {
      "text/plain": [
       "591"
      ]
     },
     "execution_count": 33,
     "metadata": {},
     "output_type": "execute_result"
    }
   ],
   "source": [
    "sample_size_non_inferiority_ttest(bm_dist, reg_dist, 0.8, increase_good=True, effect_method=\"cohen\")"
   ]
  },
  {
   "cell_type": "code",
   "execution_count": 34,
   "metadata": {},
   "outputs": [
    {
     "data": {
      "text/plain": [
       "0.8357532193588865"
      ]
     },
     "execution_count": 34,
     "metadata": {},
     "output_type": "execute_result"
    }
   ],
   "source": [
    "power_non_inferiority_ttest(bm_dist, reg_dist, margin=0, alpha=0.05, increase_good=True, effect_method=\"cohen\")"
   ]
  },
  {
   "cell_type": "markdown",
   "metadata": {},
   "source": [
    "## Hypothesis Test (Accuracy)"
   ]
  },
  {
   "cell_type": "code",
   "execution_count": 22,
   "metadata": {},
   "outputs": [],
   "source": [
    "data = get_wilds_dataset(\n",
    "    dataset_name, root_dir, \"test\", batch_size=64, shuffle=False, num_workers=4\n",
    ")\n",
    "\n",
    "max_conf_signal = ConfidenceSignal(model, device)\n",
    "max_confidences = max_conf_signal.evaluate(data, \"max\")\n",
    "mean_conf_signal = ConfidenceSignal(model, device)\n",
    "mean_confidences = mean_conf_signal.evaluate(data, \"mean\")\n",
    "std_conf_signal = ConfidenceSignal(model, device)\n",
    "std_confidences = std_conf_signal.evaluate(data, \"std\")\n",
    "\n",
    "max_logit_signal = LogitSignal(model, device)\n",
    "max_logits = max_logit_signal.evaluate(data, \"max\")\n",
    "mean_logit_signal = LogitSignal(model, device)\n",
    "mean_logits = mean_logit_signal.evaluate(data, \"mean\")\n",
    "std_logit_signal = LogitSignal(model, device)\n",
    "std_logits = std_logit_signal.evaluate(data, \"std\")\n",
    "\n",
    "corr_signal = CorrectnessSignal(model, device)\n",
    "correctness = corr_signal.evaluate(data)"
   ]
  },
  {
   "cell_type": "code",
   "execution_count": 28,
   "metadata": {},
   "outputs": [],
   "source": [
    "def evaluate_suitability_fmow(n_subsets):\n",
    "    # Number of subsets and target accuracies\n",
    "    target_accuracies = np.linspace(0.3, 0.75, n_subsets)\n",
    "    total_samples = len(correctness)\n",
    "\n",
    "    # Shuffle the data to randomize distribution\n",
    "    indices = np.random.permutation(total_samples)\n",
    "    shuffled_correctness = correctness[indices]\n",
    "    shuffled_mean_confidences = mean_confidences[indices]\n",
    "    shuffled_max_confidences = max_confidences[indices]\n",
    "    shuffled_std_confidences = std_confidences[indices]\n",
    "    shuffled_mean_logits = mean_logits[indices]\n",
    "    shuffled_max_logits = max_logits[indices]\n",
    "    shuffled_std_logits = std_logits[indices]\n",
    "\n",
    "    # Create subsets with specific accuracies\n",
    "    subsets_regression_mean = [None] * n_subsets\n",
    "    subsets_p_value = [None] * n_subsets\n",
    "    subset_accuracies = [None] * n_subsets\n",
    "    start_idx = 0\n",
    "\n",
    "    for i, target_accuracy in enumerate(target_accuracies):\n",
    "        # Calculate the number of correct and incorrect samples needed for the subset\n",
    "        subset_size = total_samples // n_subsets\n",
    "        n_correct = int(subset_size * target_accuracy)\n",
    "        n_incorrect = subset_size - n_correct\n",
    "\n",
    "        # Find the correct/incorrect samples in the shuffled data\n",
    "        correct_indices = np.where(shuffled_correctness[start_idx:] == 1)[0][:n_correct]\n",
    "        incorrect_indices = np.where(shuffled_correctness[start_idx:] == 0)[0][:n_incorrect]\n",
    "\n",
    "        # Get the final indices for the current subset\n",
    "        subset_indices = np.concatenate((correct_indices, incorrect_indices)) + start_idx\n",
    "\n",
    "        # Extract the subset from correctness and logits arrays\n",
    "        feature = np.column_stack((shuffled_mean_confidences[subset_indices], shuffled_max_confidences[subset_indices], shuffled_std_confidences[subset_indices], shuffled_mean_logits[subset_indices], shuffled_max_logits[subset_indices], shuffled_std_logits[subset_indices]))\n",
    "        correctness_subset = shuffled_correctness[subset_indices]\n",
    "        regression_subset = regression_model.predict_proba(feature)[:, 1]\n",
    "\n",
    "        # Move the start index forward\n",
    "        start_idx += len(subset_indices)\n",
    "\n",
    "        # Print the achieved accuracy\n",
    "        # accuracy = np.mean(subsets_correctness[i])\n",
    "        # subset_size = len(subset_indices)\n",
    "        # print(\n",
    "        #     f\"Subset of size {subset_size} with target accuracy {target_accuracy:.2f}: Achieved accuracy = {accuracy:.2f}\"\n",
    "        # )\n",
    "\n",
    "        subsets_regression_mean[i] = np.mean(regression_subset)\n",
    "        subsets_p_value[i] = test_fn(bm_dist, regression_subset, margin=0)['p_value']\n",
    "        subset_accuracies[i] = np.mean(correctness_subset)\n",
    "\n",
    "    return subsets_regression_mean, subsets_p_value, subset_accuracies"
   ]
  },
  {
   "cell_type": "code",
   "execution_count": 30,
   "metadata": {},
   "outputs": [
    {
     "data": {
      "image/png": "[encoded data removed]",
      "text/plain": [
       "<Figure size 640x480 with 1 Axes>"
      ]
     },
     "metadata": {},
     "output_type": "display_data"
    }
   ],
   "source": [
    "subset_cnt = [5, 7, 10, 15, 20]\n",
    "test_fn = ftests.non_inferiority_ttest\n",
    "\n",
    "for cnt in subset_cnt:\n",
    "    subsets_regression_mean, subsets_p_value, subset_accuracies = evaluate_suitability_fmow(cnt)\n",
    "    plt.plot(subset_accuracies, subsets_p_value, label=f\"{len(corr)//cnt} samples / subset\")\n",
    "\n",
    "plt.xlabel(\"Accuracy\")\n",
    "plt.ylabel(\"HMP\")\n",
    "plt.yscale(\"log\")\n",
    "plt.axhline(\n",
    "    y=0.05, color=\"red\", linestyle=\"--\", label=\"Significance Threshold (p=0.05)\"\n",
    ")\n",
    "plt.axvline(\n",
    "    x=0.553, color=\"green\", linestyle=\"--\", label=\"Overall Accuracy\"\n",
    ")\n",
    "plt.title(\"HMP vs Accuracy for Different Subset Sizes\")\n",
    "plt.legend()\n",
    "plt.show()"
   ]
  },
  {
   "cell_type": "code",
   "execution_count": null,
   "metadata": {},
   "outputs": [],
   "source": []
  }
 ],
 "metadata": {
  "kernelspec": {
   "display_name": "Python 3 (ipykernel)",
   "language": "python",
   "name": "python3"
  },
  "language_info": {
   "codemirror_mode": {
    "name": "ipython",
    "version": 3
   },
   "file_extension": ".py",
   "mimetype": "text/x-python",
   "name": "python",
   "nbconvert_exporter": "python",
   "pygments_lexer": "ipython3",
   "version": "3.11.9"
  }
 },
 "nbformat": 4,
 "nbformat_minor": 2
}
