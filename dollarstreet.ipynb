{
 "cells": [
  {
   "cell_type": "markdown",
   "metadata": {},
   "source": [
    "## Dollar Street dataset\n",
    "#### Imports"
   ]
  },
  {
   "cell_type": "code",
   "execution_count": null,
   "metadata": {},
   "outputs": [],
   "source": [
    "import ast\n",
    "import os\n",
    "from PIL import Image\n",
    "import pandas as pd\n",
    "import torch\n",
    "from torch.utils.data import Dataset, DataLoader\n",
    "from torchvision import transforms\n",
    "from torchvision.models import resnet50, ResNet50_Weights\n",
    "\n",
    "# from datasets.dollarstreet import get_dollarstreet --> test if this works"
   ]
  },
  {
   "cell_type": "markdown",
   "metadata": {},
   "source": [
    "#### Load CSV\n",
    "Data downloaded from Kaggle: \n",
    "```\n",
    "kaggle datasets download -d mlcommons/the-dollar-street-dataset -p /mfsnic/u/apouget/data/dollarstreet/\n",
    "unzip /mfsnic/u/apouget/data/dollarstreet/the-dollar-street-dataset.zip -d /mfsnic/u/apouget/data/dollarstreet\n",
    "```"
   ]
  },
  {
   "cell_type": "code",
   "execution_count": null,
   "metadata": {},
   "outputs": [],
   "source": [
    "dataset_path = '/mfsnic/u/apouget/data/dollarstreet/dataset_dollarstreet/'\n",
    "train_path = os.path.join(dataset_path, 'images_v2_imagenet_train.csv')\n",
    "test_path = os.path.join(dataset_path, 'images_v2_imagenet_test.csv')\n",
    "\n",
    "data_train_csv = pd.read_csv(train_path)\n",
    "data_test_csv = pd.read_csv(test_path)\n",
    "# display(data_train_csv.head())"
   ]
  },
  {
   "cell_type": "markdown",
   "metadata": {},
   "source": [
    "#### Create torch dataset"
   ]
  },
  {
   "cell_type": "code",
   "execution_count": null,
   "metadata": {},
   "outputs": [],
   "source": [
    "class DollarStreetDataset(Dataset):\n",
    "    def __init__(self, csv_file, root_dir, pre_filter=None, transform=None):\n",
    "        self.data = pd.read_csv(csv_file)\n",
    "        self.root_dir = root_dir\n",
    "        self.transform = transform\n",
    "\n",
    "        if pre_filter:\n",
    "            self.data = self.data[self.data.apply(pre_filter, axis=1)]\n",
    "\n",
    "    def __len__(self):\n",
    "        return len(self.data)\n",
    "\n",
    "    def __getitem__(self, idx):\n",
    "        img_name = os.path.join(self.root_dir, self.data.iloc[idx, 5]) # 5 is the column imageRelPath\n",
    "        image = Image.open(img_name).convert(\"RGB\")\n",
    "        label = ast.literal_eval(self.data.iloc[idx, 10])[0] # 10 is the column imagenet_sysnet_id, taking the first label\n",
    "\n",
    "        if self.transform:\n",
    "            image = self.transform(image)\n",
    "\n",
    "        return image, label"
   ]
  },
  {
   "cell_type": "code",
   "execution_count": null,
   "metadata": {},
   "outputs": [],
   "source": [
    "transform = transforms.Compose([\n",
    "    transforms.Resize(232, interpolation=transforms.InterpolationMode.BILINEAR),\n",
    "    transforms.CenterCrop(224),\n",
    "    transforms.ToTensor(),\n",
    "    transforms.Normalize([0.4333, 0.3959, 0.3595], [0.2046, 0.2008, 0.2011])\n",
    "])\n",
    "\n",
    "data_train = DollarStreetDataset(csv_file=train_path, root_dir=dataset_path, transform=transform)\n",
    "dataloader_train = DataLoader(data_train, batch_size=64, shuffle=False, num_workers=4)\n",
    "data_test = DollarStreetDataset(csv_file=test_path, root_dir=dataset_path, transform=transform)\n",
    "dataloader_test = DataLoader(data_test, batch_size=64, shuffle=False, num_workers=4)"
   ]
  },
  {
   "cell_type": "markdown",
   "metadata": {},
   "source": [
    "#### Check model accuracy"
   ]
  },
  {
   "cell_type": "code",
   "execution_count": null,
   "metadata": {},
   "outputs": [],
   "source": [
    "weights = ResNet50_Weights.IMAGENET1K_V2\n",
    "model = resnet50(weights=weights)\n",
    "\n",
    "def get_accuracy(model, dataloader):\n",
    "    model.eval()  # Set the model to evaluation mode\n",
    "    correct = 0\n",
    "    total = 0\n",
    "    \n",
    "    with torch.no_grad():  # No need to calculate gradients for evaluation\n",
    "        for data in dataloader:\n",
    "            images, labels = data\n",
    "            outputs = model(images)\n",
    "            \n",
    "            # Get the predicted class by taking the argmax of the output tensor\n",
    "            _, predicted = torch.max(outputs.data, 1)\n",
    "            \n",
    "            total += labels.size(0)\n",
    "            correct += (predicted == labels).sum().item()\n",
    "    \n",
    "    accuracy = correct / total * 100\n",
    "    return accuracy\n",
    "\n",
    "print(get_accuracy(model, dataloader_test)) # 23.81615598885794"
   ]
  },
  {
   "cell_type": "markdown",
   "metadata": {},
   "source": [
    "#### Check model accuracy per region"
   ]
  },
  {
   "cell_type": "code",
   "execution_count": null,
   "metadata": {},
   "outputs": [],
   "source": [
    "REGIONS = data_test_csv['region.id'].unique()\n",
    "for region in REGIONS:\n",
    "    data_test_filtered = DollarStreetDataset(csv_file=test_path, root_dir=dataset_path, pre_filter=lambda x: x['region.id'] == region, transform=transform)\n",
    "    dataloader_test_filtered = DataLoader(data_test_filtered, batch_size=64, shuffle=False, num_workers=4)\n",
    "    print(f'Region {region}: {get_accuracy(model, dataloader_test_filtered)}')\n",
    "# Region as: 22.25117248566962\n",
    "# Region am: 28.971962616822427\n",
    "# Region af: 15.11216056670602\n",
    "# Region eu: 32.50728862973761"
   ]
  }
 ],
 "metadata": {
  "kernelspec": {
   "display_name": "Python [conda env:apouget-test]",
   "language": "python",
   "name": "conda-env-apouget-test-py"
  },
  "language_info": {
   "codemirror_mode": {
    "name": "ipython",
    "version": 3
   },
   "file_extension": ".py",
   "mimetype": "text/x-python",
   "name": "python",
   "nbconvert_exporter": "python",
   "pygments_lexer": "ipython3",
   "version": "3.11.9"
  }
 },
 "nbformat": 4,
 "nbformat_minor": 2
}
