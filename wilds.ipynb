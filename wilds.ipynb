{
 "cells": [
  {
   "cell_type": "markdown",
   "metadata": {},
   "source": [
    "## Exploring WILDS datasets and models\n",
    "### FMoW\n",
    "#### Imports"
   ]
  },
  {
   "cell_type": "code",
   "execution_count": 17,
   "metadata": {},
   "outputs": [],
   "source": [
    "from wilds import get_dataset\n",
    "from wilds.common.data_loaders import get_train_loader\n",
    "import torchvision.transforms as transforms\n",
    "import pandas as pd\n",
    "import matplotlib.pyplot as plt\n",
    "import seaborn as sns\n",
    "import torch"
   ]
  },
  {
   "cell_type": "markdown",
   "metadata": {},
   "source": [
    "#### Explore dataset"
   ]
  },
  {
   "cell_type": "code",
   "execution_count": 30,
   "metadata": {},
   "outputs": [
    {
     "data": {
      "text/plain": [
       "(<PIL.Image.Image image mode=RGB size=224x224>,\n",
       " tensor(57),\n",
       " tensor([ 0, 15, 57,  0]))"
      ]
     },
     "execution_count": 30,
     "metadata": {},
     "output_type": "execute_result"
    }
   ],
   "source": [
    "dataset = get_dataset(dataset=\"fmow\", download=False, root_dir='/mfsnic/u/apouget/data/')\n",
    "dataset[0]"
   ]
  },
  {
   "cell_type": "code",
   "execution_count": 23,
   "metadata": {},
   "outputs": [
    {
     "data": {
      "text/plain": [
       "tensor([ 73220, 129809])"
      ]
     },
     "execution_count": 23,
     "metadata": {},
     "output_type": "execute_result"
    }
   ],
   "source": [
    "torch.bincount(dataset.metadata_array[:,9])"
   ]
  },
  {
   "cell_type": "code",
   "execution_count": 31,
   "metadata": {},
   "outputs": [
    {
     "data": {
      "text/plain": [
       "[0, 1, 2]"
      ]
     },
     "execution_count": 31,
     "metadata": {},
     "output_type": "execute_result"
    }
   ],
   "source": [
    "dataset.source_domain_splits"
   ]
  },
  {
   "cell_type": "code",
   "execution_count": 22,
   "metadata": {},
   "outputs": [
    {
     "data": {
      "text/plain": [
       "(<PIL.JpegImagePlugin.JpegImageFile image mode=RGB size=796x448>,\n",
       " tensor(1),\n",
       " tensor([   2, 2124, 2013,    6,    1,    6,   55,    0,    1,    0]))"
      ]
     },
     "execution_count": 22,
     "metadata": {},
     "output_type": "execute_result"
    }
   ],
   "source": [
    "dataset[0]"
   ]
  },
  {
   "cell_type": "markdown",
   "metadata": {},
   "source": [
    "#### Load dataset"
   ]
  },
  {
   "cell_type": "markdown",
   "metadata": {},
   "source": [
    "To make the following work, a small change is needed in the `wilds` package code. In `<conda_env>/lib/python3.11/site-packages/wilds/datasets/fmow_dataset.py`, add the `format='ISO8601'` argument to each `pd.to_datetime()` function call (3 in total)."
   ]
  },
  {
   "cell_type": "code",
   "execution_count": 7,
   "metadata": {},
   "outputs": [
    {
     "name": "stdout",
     "output_type": "stream",
     "text": [
      "torch.Size([16, 3, 448, 448]) torch.Size([16]) torch.Size([16, 4])\n"
     ]
    }
   ],
   "source": [
    "dataset = get_dataset(dataset=\"fmow\", download=False, root_dir='/mfsnic/u/apouget/data/')\n",
    "train_data = dataset.get_subset(\n",
    "    \"train\",\n",
    "    transform=transforms.Compose(\n",
    "        [transforms.Resize((448, 448)), transforms.ToTensor()]\n",
    "    ),\n",
    ")\n",
    "train_loader = get_train_loader(\"standard\", train_data, batch_size=16) # get_eval_loader if we don't want to shuffle, \"group\" to sample from groups\n",
    "for x, y, metadata in train_loader:\n",
    "    print(x.shape, y.shape, metadata.shape)\n",
    "    break"
   ]
  },
  {
   "cell_type": "code",
   "execution_count": 8,
   "metadata": {},
   "outputs": [
    {
     "data": {
      "text/html": [
       "<div>\n",
       "<style scoped>\n",
       "    .dataframe tbody tr th:only-of-type {\n",
       "        vertical-align: middle;\n",
       "    }\n",
       "\n",
       "    .dataframe tbody tr th {\n",
       "        vertical-align: top;\n",
       "    }\n",
       "\n",
       "    .dataframe thead th {\n",
       "        text-align: right;\n",
       "    }\n",
       "</style>\n",
       "<table border=\"1\" class=\"dataframe\">\n",
       "  <thead>\n",
       "    <tr style=\"text-align: right;\">\n",
       "      <th></th>\n",
       "      <th>split</th>\n",
       "      <th>img_filename</th>\n",
       "      <th>img_path</th>\n",
       "      <th>spatial_reference</th>\n",
       "      <th>epsg</th>\n",
       "      <th>category</th>\n",
       "      <th>visible</th>\n",
       "      <th>img_width</th>\n",
       "      <th>img_height</th>\n",
       "      <th>country_code</th>\n",
       "      <th>cloud_cover</th>\n",
       "      <th>timestamp</th>\n",
       "      <th>lat</th>\n",
       "      <th>lon</th>\n",
       "      <th>region</th>\n",
       "      <th>y</th>\n",
       "      <th>year</th>\n",
       "    </tr>\n",
       "  </thead>\n",
       "  <tbody>\n",
       "    <tr>\n",
       "      <th>0</th>\n",
       "      <td>train</td>\n",
       "      <td>tunnel_opening_370_6_rgb.jpg</td>\n",
       "      <td>train/tunnel_opening/tunnel_opening_370/tunnel...</td>\n",
       "      <td>GCS_WGS_1984</td>\n",
       "      <td>4326</td>\n",
       "      <td>tunnel_opening</td>\n",
       "      <td>True</td>\n",
       "      <td>1359</td>\n",
       "      <td>1222</td>\n",
       "      <td>CHN</td>\n",
       "      <td>0</td>\n",
       "      <td>2017-04-12T04:14:15Z</td>\n",
       "      <td>26.604456</td>\n",
       "      <td>101.733373</td>\n",
       "      <td>0</td>\n",
       "      <td>57</td>\n",
       "      <td>15.0</td>\n",
       "    </tr>\n",
       "    <tr>\n",
       "      <th>1</th>\n",
       "      <td>train</td>\n",
       "      <td>tunnel_opening_370_1_rgb.jpg</td>\n",
       "      <td>train/tunnel_opening/tunnel_opening_370/tunnel...</td>\n",
       "      <td>GCS_WGS_1984</td>\n",
       "      <td>4326</td>\n",
       "      <td>tunnel_opening</td>\n",
       "      <td>True</td>\n",
       "      <td>900</td>\n",
       "      <td>809</td>\n",
       "      <td>CHN</td>\n",
       "      <td>0</td>\n",
       "      <td>2017-01-30T04:18:04Z</td>\n",
       "      <td>26.604456</td>\n",
       "      <td>101.733373</td>\n",
       "      <td>0</td>\n",
       "      <td>57</td>\n",
       "      <td>15.0</td>\n",
       "    </tr>\n",
       "    <tr>\n",
       "      <th>2</th>\n",
       "      <td>train</td>\n",
       "      <td>tunnel_opening_370_0_rgb.jpg</td>\n",
       "      <td>train/tunnel_opening/tunnel_opening_370/tunnel...</td>\n",
       "      <td>GCS_WGS_1984</td>\n",
       "      <td>4326</td>\n",
       "      <td>tunnel_opening</td>\n",
       "      <td>True</td>\n",
       "      <td>1058</td>\n",
       "      <td>951</td>\n",
       "      <td>CHN</td>\n",
       "      <td>1</td>\n",
       "      <td>2015-02-20T04:11:50Z</td>\n",
       "      <td>26.604456</td>\n",
       "      <td>101.733373</td>\n",
       "      <td>0</td>\n",
       "      <td>57</td>\n",
       "      <td>13.0</td>\n",
       "    </tr>\n",
       "    <tr>\n",
       "      <th>3</th>\n",
       "      <td>train</td>\n",
       "      <td>tunnel_opening_370_3_rgb.jpg</td>\n",
       "      <td>train/tunnel_opening/tunnel_opening_370/tunnel...</td>\n",
       "      <td>GCS_WGS_1984</td>\n",
       "      <td>4326</td>\n",
       "      <td>tunnel_opening</td>\n",
       "      <td>True</td>\n",
       "      <td>1568</td>\n",
       "      <td>1409</td>\n",
       "      <td>CHN</td>\n",
       "      <td>11</td>\n",
       "      <td>2015-11-23T04:10:38Z</td>\n",
       "      <td>26.604456</td>\n",
       "      <td>101.733373</td>\n",
       "      <td>0</td>\n",
       "      <td>57</td>\n",
       "      <td>13.0</td>\n",
       "    </tr>\n",
       "    <tr>\n",
       "      <th>4</th>\n",
       "      <td>train</td>\n",
       "      <td>tunnel_opening_370_4_rgb.jpg</td>\n",
       "      <td>train/tunnel_opening/tunnel_opening_370/tunnel...</td>\n",
       "      <td>GCS_WGS_1984</td>\n",
       "      <td>4326</td>\n",
       "      <td>tunnel_opening</td>\n",
       "      <td>True</td>\n",
       "      <td>1624</td>\n",
       "      <td>1460</td>\n",
       "      <td>CHN</td>\n",
       "      <td>0</td>\n",
       "      <td>2016-04-04T04:12:15Z</td>\n",
       "      <td>26.604456</td>\n",
       "      <td>101.733373</td>\n",
       "      <td>0</td>\n",
       "      <td>57</td>\n",
       "      <td>14.0</td>\n",
       "    </tr>\n",
       "    <tr>\n",
       "      <th>...</th>\n",
       "      <td>...</td>\n",
       "      <td>...</td>\n",
       "      <td>...</td>\n",
       "      <td>...</td>\n",
       "      <td>...</td>\n",
       "      <td>...</td>\n",
       "      <td>...</td>\n",
       "      <td>...</td>\n",
       "      <td>...</td>\n",
       "      <td>...</td>\n",
       "      <td>...</td>\n",
       "      <td>...</td>\n",
       "      <td>...</td>\n",
       "      <td>...</td>\n",
       "      <td>...</td>\n",
       "      <td>...</td>\n",
       "      <td>...</td>\n",
       "    </tr>\n",
       "    <tr>\n",
       "      <th>523841</th>\n",
       "      <td>seq</td>\n",
       "      <td>burial_site_82_1_rgb.jpg</td>\n",
       "      <td>seq/0010209/0010209_1_rgb.jpg</td>\n",
       "      <td>GCS_WGS_1984</td>\n",
       "      <td>4326</td>\n",
       "      <td>burial_site</td>\n",
       "      <td>True</td>\n",
       "      <td>832</td>\n",
       "      <td>507</td>\n",
       "      <td>NLD</td>\n",
       "      <td>1</td>\n",
       "      <td>2013-05-28T11:22:02Z</td>\n",
       "      <td>52.646049</td>\n",
       "      <td>5.035879</td>\n",
       "      <td>1</td>\n",
       "      <td>8</td>\n",
       "      <td>11.0</td>\n",
       "    </tr>\n",
       "    <tr>\n",
       "      <th>523842</th>\n",
       "      <td>seq</td>\n",
       "      <td>burial_site_150_0_rgb.jpg</td>\n",
       "      <td>seq/0004147/0004147_0_rgb.jpg</td>\n",
       "      <td>GCS_WGS_1984</td>\n",
       "      <td>4326</td>\n",
       "      <td>burial_site</td>\n",
       "      <td>True</td>\n",
       "      <td>875</td>\n",
       "      <td>716</td>\n",
       "      <td>JPN</td>\n",
       "      <td>0</td>\n",
       "      <td>2015-03-31T01:47:42Z</td>\n",
       "      <td>35.423879</td>\n",
       "      <td>139.378550</td>\n",
       "      <td>0</td>\n",
       "      <td>8</td>\n",
       "      <td>13.0</td>\n",
       "    </tr>\n",
       "    <tr>\n",
       "      <th>523843</th>\n",
       "      <td>seq</td>\n",
       "      <td>burial_site_150_2_rgb.jpg</td>\n",
       "      <td>seq/0004147/0004147_2_rgb.jpg</td>\n",
       "      <td>GCS_WGS_1984</td>\n",
       "      <td>4326</td>\n",
       "      <td>burial_site</td>\n",
       "      <td>True</td>\n",
       "      <td>973</td>\n",
       "      <td>797</td>\n",
       "      <td>JPN</td>\n",
       "      <td>4</td>\n",
       "      <td>2016-01-13T01:28:04Z</td>\n",
       "      <td>35.423879</td>\n",
       "      <td>139.378550</td>\n",
       "      <td>0</td>\n",
       "      <td>8</td>\n",
       "      <td>14.0</td>\n",
       "    </tr>\n",
       "    <tr>\n",
       "      <th>523844</th>\n",
       "      <td>seq</td>\n",
       "      <td>burial_site_127_6_rgb.jpg</td>\n",
       "      <td>seq/0007058/0007058_6_rgb.jpg</td>\n",
       "      <td>GCS_WGS_1984</td>\n",
       "      <td>4326</td>\n",
       "      <td>burial_site</td>\n",
       "      <td>True</td>\n",
       "      <td>678</td>\n",
       "      <td>443</td>\n",
       "      <td>FRA</td>\n",
       "      <td>20</td>\n",
       "      <td>2009-10-27T10:47:30Z</td>\n",
       "      <td>49.347681</td>\n",
       "      <td>6.135579</td>\n",
       "      <td>1</td>\n",
       "      <td>8</td>\n",
       "      <td>7.0</td>\n",
       "    </tr>\n",
       "    <tr>\n",
       "      <th>523845</th>\n",
       "      <td>seq</td>\n",
       "      <td>burial_site_127_5_rgb.jpg</td>\n",
       "      <td>seq/0007058/0007058_5_rgb.jpg</td>\n",
       "      <td>GCS_WGS_1984</td>\n",
       "      <td>4326</td>\n",
       "      <td>burial_site</td>\n",
       "      <td>True</td>\n",
       "      <td>784</td>\n",
       "      <td>513</td>\n",
       "      <td>FRA</td>\n",
       "      <td>0</td>\n",
       "      <td>2008-05-05T10:51:00Z</td>\n",
       "      <td>49.347681</td>\n",
       "      <td>6.135579</td>\n",
       "      <td>1</td>\n",
       "      <td>8</td>\n",
       "      <td>6.0</td>\n",
       "    </tr>\n",
       "  </tbody>\n",
       "</table>\n",
       "<p>523846 rows × 17 columns</p>\n",
       "</div>"
      ],
      "text/plain": [
       "        split                  img_filename  \\\n",
       "0       train  tunnel_opening_370_6_rgb.jpg   \n",
       "1       train  tunnel_opening_370_1_rgb.jpg   \n",
       "2       train  tunnel_opening_370_0_rgb.jpg   \n",
       "3       train  tunnel_opening_370_3_rgb.jpg   \n",
       "4       train  tunnel_opening_370_4_rgb.jpg   \n",
       "...       ...                           ...   \n",
       "523841    seq      burial_site_82_1_rgb.jpg   \n",
       "523842    seq     burial_site_150_0_rgb.jpg   \n",
       "523843    seq     burial_site_150_2_rgb.jpg   \n",
       "523844    seq     burial_site_127_6_rgb.jpg   \n",
       "523845    seq     burial_site_127_5_rgb.jpg   \n",
       "\n",
       "                                                 img_path spatial_reference  \\\n",
       "0       train/tunnel_opening/tunnel_opening_370/tunnel...      GCS_WGS_1984   \n",
       "1       train/tunnel_opening/tunnel_opening_370/tunnel...      GCS_WGS_1984   \n",
       "2       train/tunnel_opening/tunnel_opening_370/tunnel...      GCS_WGS_1984   \n",
       "3       train/tunnel_opening/tunnel_opening_370/tunnel...      GCS_WGS_1984   \n",
       "4       train/tunnel_opening/tunnel_opening_370/tunnel...      GCS_WGS_1984   \n",
       "...                                                   ...               ...   \n",
       "523841                      seq/0010209/0010209_1_rgb.jpg      GCS_WGS_1984   \n",
       "523842                      seq/0004147/0004147_0_rgb.jpg      GCS_WGS_1984   \n",
       "523843                      seq/0004147/0004147_2_rgb.jpg      GCS_WGS_1984   \n",
       "523844                      seq/0007058/0007058_6_rgb.jpg      GCS_WGS_1984   \n",
       "523845                      seq/0007058/0007058_5_rgb.jpg      GCS_WGS_1984   \n",
       "\n",
       "        epsg        category  visible  img_width  img_height country_code  \\\n",
       "0       4326  tunnel_opening     True       1359        1222          CHN   \n",
       "1       4326  tunnel_opening     True        900         809          CHN   \n",
       "2       4326  tunnel_opening     True       1058         951          CHN   \n",
       "3       4326  tunnel_opening     True       1568        1409          CHN   \n",
       "4       4326  tunnel_opening     True       1624        1460          CHN   \n",
       "...      ...             ...      ...        ...         ...          ...   \n",
       "523841  4326     burial_site     True        832         507          NLD   \n",
       "523842  4326     burial_site     True        875         716          JPN   \n",
       "523843  4326     burial_site     True        973         797          JPN   \n",
       "523844  4326     burial_site     True        678         443          FRA   \n",
       "523845  4326     burial_site     True        784         513          FRA   \n",
       "\n",
       "        cloud_cover             timestamp        lat         lon  region   y  \\\n",
       "0                 0  2017-04-12T04:14:15Z  26.604456  101.733373       0  57   \n",
       "1                 0  2017-01-30T04:18:04Z  26.604456  101.733373       0  57   \n",
       "2                 1  2015-02-20T04:11:50Z  26.604456  101.733373       0  57   \n",
       "3                11  2015-11-23T04:10:38Z  26.604456  101.733373       0  57   \n",
       "4                 0  2016-04-04T04:12:15Z  26.604456  101.733373       0  57   \n",
       "...             ...                   ...        ...         ...     ...  ..   \n",
       "523841            1  2013-05-28T11:22:02Z  52.646049    5.035879       1   8   \n",
       "523842            0  2015-03-31T01:47:42Z  35.423879  139.378550       0   8   \n",
       "523843            4  2016-01-13T01:28:04Z  35.423879  139.378550       0   8   \n",
       "523844           20  2009-10-27T10:47:30Z  49.347681    6.135579       1   8   \n",
       "523845            0  2008-05-05T10:51:00Z  49.347681    6.135579       1   8   \n",
       "\n",
       "        year  \n",
       "0       15.0  \n",
       "1       15.0  \n",
       "2       13.0  \n",
       "3       13.0  \n",
       "4       14.0  \n",
       "...      ...  \n",
       "523841  11.0  \n",
       "523842  13.0  \n",
       "523843  14.0  \n",
       "523844   7.0  \n",
       "523845   6.0  \n",
       "\n",
       "[523846 rows x 17 columns]"
      ]
     },
     "execution_count": 8,
     "metadata": {},
     "output_type": "execute_result"
    }
   ],
   "source": [
    "dataset.metadata"
   ]
  },
  {
   "cell_type": "code",
   "execution_count": null,
   "metadata": {},
   "outputs": [],
   "source": []
  }
 ],
 "metadata": {
  "kernelspec": {
   "display_name": "Python [conda env:apouget-test] *",
   "language": "python",
   "name": "conda-env-apouget-test-py"
  },
  "language_info": {
   "codemirror_mode": {
    "name": "ipython",
    "version": 3
   },
   "file_extension": ".py",
   "mimetype": "text/x-python",
   "name": "python",
   "nbconvert_exporter": "python",
   "pygments_lexer": "ipython3",
   "version": "3.11.9"
  }
 },
 "nbformat": 4,
 "nbformat_minor": 2
}
