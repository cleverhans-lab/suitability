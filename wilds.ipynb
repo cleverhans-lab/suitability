{
 "cells": [
  {
   "cell_type": "markdown",
   "metadata": {},
   "source": [
    "## Exploring WILDS datasets and models\n",
    "### FMoW\n",
    "#### Imports"
   ]
  },
  {
   "cell_type": "code",
   "execution_count": 1,
   "metadata": {},
   "outputs": [],
   "source": [
    "from wilds import get_dataset\n",
    "from wilds.common.data_loaders import get_train_loader, get_eval_loader\n",
    "from examples.utils import load\n",
    "from examples.models.initializer import initialize_torchvision_model\n",
    "from examples.transforms import initialize_transform\n",
    "import torchvision.transforms as transforms\n",
    "import pandas as pd\n",
    "import matplotlib.pyplot as plt\n",
    "import seaborn as sns\n",
    "import torch\n",
    "import torch.nn.functional as F\n",
    "import numpy as np"
   ]
  },
  {
   "cell_type": "markdown",
   "metadata": {},
   "source": [
    "#### Load dataset and evaluate trained models"
   ]
  },
  {
   "cell_type": "markdown",
   "metadata": {},
   "source": [
    "To make the following work, a small change is needed in the `wilds` package code. In `<conda_env>/lib/python3.11/site-packages/wilds/datasets/fmow_dataset.py`, add the `format='ISO8601'` argument to each `pd.to_datetime()` function call (3 in total)."
   ]
  },
  {
   "cell_type": "code",
   "execution_count": null,
   "metadata": {},
   "outputs": [],
   "source": [
    "def remove_prefix_from_state_dict(state_dict, prefix='model.'):\n",
    "    \"\"\"\n",
    "    Remove the prefix from the keys in state_dict if it exists.\n",
    "    \"\"\"\n",
    "    new_state_dict = {}\n",
    "    for k, v in state_dict.items():\n",
    "        if k.startswith(prefix):\n",
    "            new_state_dict[k[len(prefix):]] = v\n",
    "        else:\n",
    "            new_state_dict[k] = v\n",
    "    return new_state_dict"
   ]
  },
  {
   "cell_type": "code",
   "execution_count": 45,
   "metadata": {},
   "outputs": [
    {
     "name": "stderr",
     "output_type": "stream",
     "text": [
      "/mfsnic/u/apouget/envs/test/lib/python3.11/site-packages/torchvision/models/_utils.py:208: UserWarning: The parameter 'pretrained' is deprecated since 0.13 and may be removed in the future, please use 'weights' instead.\n",
      "  warnings.warn(\n",
      "/mfsnic/u/apouget/envs/test/lib/python3.11/site-packages/torchvision/models/_utils.py:223: UserWarning: Arguments other than a weight enum or `None` for 'weights' are deprecated since 0.13 and may be removed in the future. The current behavior is equivalent to passing `weights=DenseNet121_Weights.IMAGENET1K_V1`. You can also use `weights=DenseNet121_Weights.DEFAULT` to get the most up-to-date weights.\n",
      "  warnings.warn(msg)\n"
     ]
    },
    {
     "name": "stdout",
     "output_type": "stream",
     "text": [
      "53.99855256015922\n"
     ]
    }
   ],
   "source": [
    "dataset_name = \"fmow\"\n",
    "dataset = get_dataset(dataset=dataset_name, download=False, root_dir=\"/mfsnic/u/apouget/data/\")\n",
    "class Config:\n",
    "    pass\n",
    "\n",
    "config = Config()\n",
    "\n",
    "if dataset_name == \"iwildcam\":\n",
    "    config.target_resolution = (448, 448)\n",
    "elif dataset_name == \"fmow\":\n",
    "    config.target_resolution = (224, 224)\n",
    "\n",
    "eval_transform = initialize_transform(\n",
    "        transform_name=\"image_base\",\n",
    "        config=config,\n",
    "        dataset=dataset,\n",
    "        is_training=False)\n",
    "\n",
    "# Get the test set\n",
    "test_data = dataset.get_subset(\n",
    "    \"test\",\n",
    "    transform=eval_transform,\n",
    ")\n",
    "\n",
    "# Prepare the data loader\n",
    "test_loader = get_eval_loader(\"standard\", test_data, batch_size=16, num_workers=4, pin_memory=True)\n",
    "\n",
    "# Load the model\n",
    "device = torch.device(\"cuda\" if torch.cuda.is_available() else \"cpu\")\n",
    "\n",
    "if dataset_name == \"iwildcam\":\n",
    "    model = initialize_torchvision_model(\"resnet50\", d_out=dataset.n_classes, pretrained=True)\n",
    "elif dataset_name == \"fmow\":\n",
    "    model = initialize_torchvision_model(\"densenet121\", d_out=dataset.n_classes, pretrained=True)\n",
    "else:\n",
    "    raise ValueError(f\"Unknown dataset {dataset_name}\")\n",
    "state_dict = remove_prefix_from_state_dict(torch.load(f\"/mfsnic/u/apouget/experiments/{dataset_name}/{dataset_name}_seed:0_epoch:best_model.pth\")['algorithm'])\n",
    "model.load_state_dict(state_dict)\n",
    "model = model.to(device)\n",
    "model.eval()\n",
    "\n",
    "def get_accuracy_and_confidence(model, dataloader, device):\n",
    "    correct = 0\n",
    "    total = 0\n",
    "    confidence_scores = []\n",
    "    correctness = np.array([])\n",
    "    label_arr = np.array([])\n",
    "    pred_arr = np.array([])\n",
    "    meta_arr = np.array([])\n",
    "    \n",
    "    with torch.no_grad():  # No need to calculate gradients for evaluation\n",
    "        for data in dataloader:\n",
    "            images, labels, meta = data\n",
    "            images, labels = images.to(device), labels.to(device)\n",
    "            outputs = model(images)\n",
    "            \n",
    "            # Get the predicted class by taking the argmax of the output tensor\n",
    "            _, predicted = torch.max(outputs.data, 1)\n",
    "            softmax_scores = F.softmax(outputs, dim=1)\n",
    "            max_confidences, _ = torch.max(softmax_scores, dim=1)\n",
    "            confidence_scores.extend(max_confidences.cpu().numpy())\n",
    "            \n",
    "            total += labels.size(0)\n",
    "            correct += (predicted == labels).sum().item()\n",
    "            correctness = np.append(correctness, (predicted == labels).cpu().numpy())\n",
    "            label_arr = np.append(label_arr, labels.cpu().numpy())\n",
    "            pred_arr = np.append(pred_arr, predicted.cpu().numpy())\n",
    "            meta_arr = np.append(meta_arr, meta.cpu().numpy())\n",
    "    \n",
    "    accuracy = correct / total * 100\n",
    "    return accuracy, confidence_scores, np.array(correctness, dtype=bool), label_arr, pred_arr, meta_arr\n",
    "\n",
    "# Evaluate\n",
    "acc, conf, correct, labels, preds, meta = get_accuracy_and_confidence(model, test_loader, device)\n",
    "print(acc)"
   ]
  },
  {
   "cell_type": "code",
   "execution_count": 46,
   "metadata": {},
   "outputs": [
    {
     "data": {
      "text/plain": [
       "({'acc_avg': 0.5399855375289917,\n",
       "  'acc_year:2002': 0.0,\n",
       "  'count_year:2002': 0.0,\n",
       "  'acc_year:2003': 0.0,\n",
       "  'count_year:2003': 0.0,\n",
       "  'acc_year:2004': 0.0,\n",
       "  'count_year:2004': 0.0,\n",
       "  'acc_year:2005': 0.0,\n",
       "  'count_year:2005': 0.0,\n",
       "  'acc_year:2006': 0.0,\n",
       "  'count_year:2006': 0.0,\n",
       "  'acc_year:2007': 0.0,\n",
       "  'count_year:2007': 0.0,\n",
       "  'acc_year:2008': 0.0,\n",
       "  'count_year:2008': 0.0,\n",
       "  'acc_year:2009': 0.0,\n",
       "  'count_year:2009': 0.0,\n",
       "  'acc_year:2010': 0.0,\n",
       "  'count_year:2010': 0.0,\n",
       "  'acc_year:2011': 0.0,\n",
       "  'count_year:2011': 0.0,\n",
       "  'acc_year:2012': 0.0,\n",
       "  'count_year:2012': 0.0,\n",
       "  'acc_year:2013': 0.0,\n",
       "  'count_year:2013': 0.0,\n",
       "  'acc_year:2014': 0.0,\n",
       "  'count_year:2014': 0.0,\n",
       "  'acc_year:2015': 0.0,\n",
       "  'count_year:2015': 0.0,\n",
       "  'acc_year:2016': 0.5605614185333252,\n",
       "  'count_year:2016': 15959.0,\n",
       "  'acc_year:2017': 0.4865831732749939,\n",
       "  'count_year:2017': 6149.0,\n",
       "  'acc_worst_year': 0.4865831732749939,\n",
       "  'acc_region:Asia': 0.5593391060829163,\n",
       "  'count_region:Asia': 4963.0,\n",
       "  'acc_region:Europe': 0.5635029077529907,\n",
       "  'count_region:Europe': 5858.0,\n",
       "  'acc_region:Africa': 0.3359043598175049,\n",
       "  'count_region:Africa': 2593.0,\n",
       "  'acc_region:Americas': 0.571660041809082,\n",
       "  'count_region:Americas': 8024.0,\n",
       "  'acc_region:Oceania': 0.5990990996360779,\n",
       "  'count_region:Oceania': 666.0,\n",
       "  'acc_region:Other': 1.0,\n",
       "  'count_region:Other': 4.0,\n",
       "  'acc_worst_region': 0.3359043598175049},\n",
       " 'Average acc: 0.540\\n  year = 2016  [n =  15959]:\\tacc = 0.561\\n  year = 2017  [n =   6149]:\\tacc = 0.487\\nWorst-group acc: 0.487\\n  region = Asia  [n =   4963]:\\tacc = 0.559\\n  region = Europe  [n =   5858]:\\tacc = 0.564\\n  region = Africa  [n =   2593]:\\tacc = 0.336\\n  region = Americas  [n =   8024]:\\tacc = 0.572\\n  region = Oceania  [n =    666]:\\tacc = 0.599\\nWorst-group acc: 0.336\\n')"
      ]
     },
     "execution_count": 46,
     "metadata": {},
     "output_type": "execute_result"
    }
   ],
   "source": [
    "dataset.eval(torch.tensor(preds), torch.tensor(labels), torch.tensor(meta.reshape(22108, 4)))"
   ]
  },
  {
   "cell_type": "code",
   "execution_count": null,
   "metadata": {},
   "outputs": [],
   "source": []
  }
 ],
 "metadata": {
  "kernelspec": {
   "display_name": "Python 3 (ipykernel)",
   "language": "python",
   "name": "python3"
  },
  "language_info": {
   "codemirror_mode": {
    "name": "ipython",
    "version": 3
   },
   "file_extension": ".py",
   "mimetype": "text/x-python",
   "name": "python",
   "nbconvert_exporter": "python",
   "pygments_lexer": "ipython3",
   "version": "3.11.9"
  }
 },
 "nbformat": 4,
 "nbformat_minor": 2
}
