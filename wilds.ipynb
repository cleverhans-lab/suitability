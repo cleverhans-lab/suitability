{
 "cells": [
  {
   "cell_type": "markdown",
   "metadata": {},
   "source": [
    "## Exploring WILDS datasets and models\n",
    "### FMoW\n",
    "#### Imports"
   ]
  },
  {
   "cell_type": "code",
   "execution_count": 1,
   "metadata": {},
   "outputs": [],
   "source": [
    "from wilds import get_dataset\n",
    "import wilds\n",
    "from wilds.common.data_loaders import get_train_loader, get_eval_loader\n",
    "from examples.utils import load\n",
    "from examples.models.initializer import initialize_torchvision_model, initialize_bert_based_model\n",
    "from examples.transforms import initialize_transform\n",
    "import torchvision.transforms as transforms\n",
    "import pandas as pd\n",
    "import matplotlib.pyplot as plt\n",
    "import seaborn as sns\n",
    "import torch\n",
    "import torch.nn.functional as F\n",
    "import numpy as np"
   ]
  },
  {
   "cell_type": "markdown",
   "metadata": {},
   "source": [
    "#### Load dataset and evaluate trained models"
   ]
  },
  {
   "cell_type": "markdown",
   "metadata": {},
   "source": [
    "To make the following work, a small change is needed in the `wilds` package code. In `<conda_env>/lib/python3.11/site-packages/wilds/datasets/fmow_dataset.py`, add the `format='ISO8601'` argument to each `pd.to_datetime()` function call (3 in total)."
   ]
  },
  {
   "cell_type": "code",
   "execution_count": 4,
   "metadata": {},
   "outputs": [],
   "source": [
    "def remove_prefix_from_state_dict(state_dict, prefix='model.'):\n",
    "    \"\"\"\n",
    "    Remove the prefix from the keys in state_dict if it exists.\n",
    "    \"\"\"\n",
    "    new_state_dict = {}\n",
    "    for k, v in state_dict.items():\n",
    "        if k.startswith(prefix):\n",
    "            new_state_dict[k[len(prefix):]] = v\n",
    "        else:\n",
    "            new_state_dict[k] = v\n",
    "    return new_state_dict"
   ]
  },
  {
   "cell_type": "code",
   "execution_count": 14,
   "metadata": {},
   "outputs": [
    {
     "name": "stderr",
     "output_type": "stream",
     "text": [
      "/mfsnic/u/apouget/envs/test/lib/python3.11/site-packages/torchvision/models/_utils.py:208: UserWarning: The parameter 'pretrained' is deprecated since 0.13 and may be removed in the future, please use 'weights' instead.\n",
      "  warnings.warn(\n",
      "/mfsnic/u/apouget/envs/test/lib/python3.11/site-packages/torchvision/models/_utils.py:223: UserWarning: Arguments other than a weight enum or `None` for 'weights' are deprecated since 0.13 and may be removed in the future. The current behavior is equivalent to passing `weights=ResNet50_Weights.IMAGENET1K_V1`. You can also use `weights=ResNet50_Weights.DEFAULT` to get the most up-to-date weights.\n",
      "  warnings.warn(msg)\n"
     ]
    },
    {
     "name": "stdout",
     "output_type": "stream",
     "text": [
      "29.803671003717476\n"
     ]
    }
   ],
   "source": [
    "dataset_name = \"rxrx1\"\n",
    "dataset = get_dataset(dataset=dataset_name, download=False, root_dir=\"/mfsnic/u/apouget/data/\")\n",
    "class Config:\n",
    "    pass\n",
    "\n",
    "config = Config()\n",
    "\n",
    "if dataset_name == \"iwildcam\":\n",
    "    config.target_resolution = (448, 448)\n",
    "elif dataset_name == \"fmow\":\n",
    "    config.target_resolution = (224, 224)\n",
    "elif dataset_name == \"civilcomments\":\n",
    "    config.model = \"distilbert-base-uncased\"\n",
    "    config.max_token_length = 300\n",
    "    config.pretrained_model_path = None\n",
    "    config.model_kwargs = {}\n",
    "elif dataset_name == \"rxrx1\":\n",
    "    config.target_resolution = (256, 256)\n",
    "elif dataset_name == \"amazon\":\n",
    "    config.model = \"distilbert-base-uncased\"\n",
    "    config.max_token_length = 512\n",
    "    config.pretrained_model_path = None\n",
    "    config.model_kwargs = {}\n",
    "\n",
    "if dataset_name == \"iwildcam\" or dataset_name == \"fmow\":\n",
    "    eval_transform = initialize_transform(\n",
    "        transform_name=\"image_base\",\n",
    "        config=config,\n",
    "        dataset=dataset,\n",
    "        is_training=False)\n",
    "elif dataset_name == \"civilcomments\" or dataset_name == \"amazon\":\n",
    "    eval_transform = initialize_transform(\n",
    "        transform_name=\"bert\",\n",
    "        config=config,\n",
    "        dataset=dataset,\n",
    "        is_training=False)\n",
    "elif dataset_name == \"rxrx1\":\n",
    "    eval_transform = initialize_transform(\n",
    "        transform_name=\"rxrx1\",\n",
    "        config=config,\n",
    "        dataset=dataset,\n",
    "        is_training=False)\n",
    "\n",
    "# Get the test set\n",
    "test_data = dataset.get_subset(\n",
    "    \"test\",\n",
    "    transform=eval_transform,\n",
    ")\n",
    "\n",
    "# Prepare the data loader\n",
    "test_loader = get_eval_loader(\"standard\", test_data, batch_size=16, num_workers=4, pin_memory=True)\n",
    "\n",
    "# Load the model\n",
    "device = torch.device(\"cuda\" if torch.cuda.is_available() else \"cpu\")\n",
    "\n",
    "if dataset_name == \"iwildcam\":\n",
    "    model = initialize_torchvision_model(\"resnet50\", d_out=dataset.n_classes, pretrained=True)\n",
    "elif dataset_name == \"fmow\":\n",
    "    model = initialize_torchvision_model(\"densenet121\", d_out=dataset.n_classes, pretrained=True)\n",
    "elif dataset_name == \"civilcomments\" or dataset_name == \"amazon\":\n",
    "    model = initialize_bert_based_model(config, d_out=dataset.n_classes)\n",
    "elif dataset_name == \"rxrx1\":\n",
    "    model = initialize_torchvision_model(\"resnet50\", d_out=dataset.n_classes, pretrained=True)\n",
    "else:\n",
    "    raise ValueError(f\"Unknown dataset {dataset_name}\")\n",
    "state_dict = remove_prefix_from_state_dict(torch.load(f\"/mfsnic/u/apouget/experiments/{dataset_name}/{dataset_name}_seed:0_epoch:last_model.pth\")['algorithm'])\n",
    "model.load_state_dict(state_dict)\n",
    "model = model.to(device)\n",
    "model.eval()\n",
    "\n",
    "def get_accuracy_and_confidence(model, dataloader, device):\n",
    "    correct = 0\n",
    "    total = 0\n",
    "    confidence_scores = []\n",
    "    correctness = np.array([])\n",
    "    label_arr = np.array([])\n",
    "    pred_arr = np.array([])\n",
    "    meta_arr = np.array([])\n",
    "    \n",
    "    with torch.no_grad():  # No need to calculate gradients for evaluation\n",
    "        for data in dataloader:\n",
    "            images, labels, meta = data\n",
    "            # Meta explanation\n",
    "            # For fmow we have [region, year, labels, ?], region: {0: Asia, 1: Europe, 2: Africa, 3: Americas, 4: Oceania}, year: {14: 2016, 15: 2017}\n",
    "            # For iwildcam we have [id], camera trap location id\n",
    "            # For civilcomments we have [male, female, LGBTQ, christian, muslim, other_religions, black, white, identity_any, severe_toxicity, obscene, threat, insult, identity_attack, sexual_explicit, y, ?]\n",
    "            images, labels = images.to(device), labels.to(device)\n",
    "            outputs = model(images)\n",
    "            \n",
    "            # Get the predicted class by taking the argmax of the output tensor\n",
    "            _, predicted = torch.max(outputs.data, 1)\n",
    "            softmax_scores = F.softmax(outputs, dim=1)\n",
    "            max_confidences, _ = torch.max(softmax_scores, dim=1)\n",
    "            confidence_scores.extend(max_confidences.cpu().numpy())\n",
    "            \n",
    "            total += labels.size(0)\n",
    "            correct += (predicted == labels).sum().item()\n",
    "            correctness = np.append(correctness, (predicted == labels).cpu().numpy())\n",
    "            label_arr = np.append(label_arr, labels.cpu().numpy())\n",
    "            pred_arr = np.append(pred_arr, predicted.cpu().numpy())\n",
    "            meta_arr = np.append(meta_arr, meta.cpu().numpy())\n",
    "    \n",
    "    accuracy = correct / total * 100\n",
    "    return accuracy, confidence_scores, np.array(correctness, dtype=bool), label_arr, pred_arr, meta_arr\n",
    "\n",
    "# Evaluate\n",
    "acc, conf, correct, labels, preds, meta = get_accuracy_and_confidence(model, test_loader, device)\n",
    "print(acc)"
   ]
  },
  {
   "cell_type": "code",
   "execution_count": 13,
   "metadata": {},
   "outputs": [
    {
     "data": {
      "text/plain": [
       "({'acc_avg': 0.29803672432899475,\n",
       "  'acc_cell_type:HEPG2': 0.2231997847557068,\n",
       "  'count_cell_type:HEPG2': 7388.0,\n",
       "  'acc_cell_type:HUVEC': 0.3963697552680969,\n",
       "  'count_cell_type:HUVEC': 17244.0,\n",
       "  'acc_cell_type:RPE': 0.21426630020141602,\n",
       "  'count_cell_type:RPE': 7360.0,\n",
       "  'acc_cell_type:U2OS': 0.08237704634666443,\n",
       "  'count_cell_type:U2OS': 2440.0,\n",
       "  'acc_wg': 0.08237704634666443},\n",
       " 'Average acc: 0.298\\n  cell_type = HEPG2  [n =   7388]:\\tacc = 0.223\\n  cell_type = HUVEC  [n =  17244]:\\tacc = 0.396\\n  cell_type = RPE  [n =   7360]:\\tacc = 0.214\\n  cell_type = U2OS  [n =   2440]:\\tacc = 0.082\\nWorst-group acc: 0.082\\n')"
      ]
     },
     "execution_count": 13,
     "metadata": {},
     "output_type": "execute_result"
    }
   ],
   "source": [
    "dataset.eval(torch.tensor(preds), torch.tensor(labels), torch.tensor(meta.reshape(34432, 7)))"
   ]
  },
  {
   "cell_type": "code",
   "execution_count": null,
   "metadata": {},
   "outputs": [],
   "source": []
  }
 ],
 "metadata": {
  "kernelspec": {
   "display_name": "Python 3 (ipykernel)",
   "language": "python",
   "name": "python3"
  },
  "language_info": {
   "codemirror_mode": {
    "name": "ipython",
    "version": 3
   },
   "file_extension": ".py",
   "mimetype": "text/x-python",
   "name": "python",
   "nbconvert_exporter": "python",
   "pygments_lexer": "ipython3",
   "version": "3.11.9"
  }
 },
 "nbformat": 4,
 "nbformat_minor": 2
}
