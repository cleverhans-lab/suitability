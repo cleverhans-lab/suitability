{
 "cells": [
  {
   "cell_type": "markdown",
   "metadata": {},
   "source": [
    "## Exploring WILDS datasets and models\n",
    "### FMoW\n",
    "#### Imports"
   ]
  },
  {
   "cell_type": "code",
   "execution_count": 24,
   "metadata": {},
   "outputs": [],
   "source": [
    "from wilds import get_dataset\n",
    "from wilds.common.data_loaders import get_train_loader, get_eval_loader\n",
    "from examples.utils import load\n",
    "from examples.models.initializer import initialize_torchvision_model\n",
    "import torchvision.transforms as transforms\n",
    "import pandas as pd\n",
    "import matplotlib.pyplot as plt\n",
    "import seaborn as sns\n",
    "import torch\n",
    "import torch.nn.functional as F\n",
    "import numpy as np"
   ]
  },
  {
   "cell_type": "markdown",
   "metadata": {},
   "source": [
    "#### Load dataset and evaluate trained models"
   ]
  },
  {
   "cell_type": "markdown",
   "metadata": {},
   "source": [
    "To make the following work, a small change is needed in the `wilds` package code. In `<conda_env>/lib/python3.11/site-packages/wilds/datasets/fmow_dataset.py`, add the `format='ISO8601'` argument to each `pd.to_datetime()` function call (3 in total)."
   ]
  },
  {
   "cell_type": "code",
   "execution_count": null,
   "metadata": {},
   "outputs": [],
   "source": [
    "def remove_prefix_from_state_dict(state_dict, prefix='model.'):\n",
    "    \"\"\"\n",
    "    Remove the prefix from the keys in state_dict if it exists.\n",
    "    \"\"\"\n",
    "    new_state_dict = {}\n",
    "    for k, v in state_dict.items():\n",
    "        if k.startswith(prefix):\n",
    "            new_state_dict[k[len(prefix):]] = v\n",
    "        else:\n",
    "            new_state_dict[k] = v\n",
    "    return new_state_dict"
   ]
  },
  {
   "cell_type": "markdown",
   "metadata": {},
   "source": [
    "##### iwildcam"
   ]
  },
  {
   "cell_type": "code",
   "execution_count": 26,
   "metadata": {},
   "outputs": [
    {
     "name": "stderr",
     "output_type": "stream",
     "text": [
      "/mfsnic/u/apouget/envs/test/lib/python3.11/site-packages/torchvision/models/_utils.py:208: UserWarning: The parameter 'pretrained' is deprecated since 0.13 and may be removed in the future, please use 'weights' instead.\n",
      "  warnings.warn(\n",
      "/mfsnic/u/apouget/envs/test/lib/python3.11/site-packages/torchvision/models/_utils.py:223: UserWarning: Arguments other than a weight enum or `None` for 'weights' are deprecated since 0.13 and may be removed in the future. The current behavior is equivalent to passing `weights=ResNet50_Weights.IMAGENET1K_V1`. You can also use `weights=ResNet50_Weights.DEFAULT` to get the most up-to-date weights.\n",
      "  warnings.warn(msg)\n"
     ]
    }
   ],
   "source": [
    "dataset_name = \"iwildcam\"\n",
    "dataset = get_dataset(dataset=dataset_name, download=False, root_dir=\"/mfsnic/u/apouget/data/\")\n",
    "\n",
    "# Get the test set\n",
    "test_data = dataset.get_subset(\n",
    "    \"test\",\n",
    "    transform=transforms.Compose(\n",
    "        [transforms.Resize((448, 448)), transforms.ToTensor()]\n",
    "    ),\n",
    ")\n",
    "\n",
    "# Prepare the data loader\n",
    "test_loader = get_eval_loader(\"standard\", test_data, batch_size=16)\n",
    "\n",
    "# Load the model\n",
    "device = torch.device(\"cuda\" if torch.cuda.is_available() else \"cpu\")\n",
    "\n",
    "if dataset_name == \"iwildcam\":\n",
    "    model = initialize_torchvision_model(\"resnet50\", d_out=dataset.n_classes, pretrained=True)\n",
    "elif dataset_name == \"fmow\":\n",
    "    model = initialize_torchvision_model(\"densenet121\", d_out=dataset.n_classes, pretrained=True)\n",
    "else:\n",
    "    raise ValueError(f\"Unknown dataset {dataset_name}\")\n",
    "state_dict = remove_prefix_from_state_dict(torch.load(f\"/mfsnic/u/apouget/experiments/{dataset_name}/{dataset_name}_seed:0_epoch:best_model.pth\")['algorithm'])\n",
    "model.load_state_dict(state_dict)\n",
    "model = model.to(device)\n",
    "model.eval()\n",
    "\n",
    "def get_accuracy_and_confidence(model, dataloader, device):\n",
    "    correct = 0\n",
    "    total = 0\n",
    "    confidence_scores = []\n",
    "    correctness = np.array([])\n",
    "    \n",
    "    with torch.no_grad():  # No need to calculate gradients for evaluation\n",
    "        for data in dataloader:\n",
    "            images, labels, _ = data\n",
    "            images, labels = images.to(device), labels.to(device)\n",
    "            outputs = model(images)\n",
    "            \n",
    "            # Get the predicted class by taking the argmax of the output tensor\n",
    "            _, predicted = torch.max(outputs.data, 1)\n",
    "            softmax_scores = F.softmax(outputs, dim=1)\n",
    "            max_confidences, _ = torch.max(softmax_scores, dim=1)\n",
    "            confidence_scores.extend(max_confidences.cpu().numpy())\n",
    "            \n",
    "            total += labels.size(0)\n",
    "            correct += (predicted == labels).sum().item()\n",
    "            correctness = np.append(correctness, (predicted == labels).cpu().numpy())\n",
    "    \n",
    "    accuracy = correct / total * 100\n",
    "    return accuracy, confidence_scores, np.array(correctness, dtype=bool)\n",
    "\n",
    "# Evaluate\n",
    "acc, conf, correct = get_accuracy_and_confidence(model, test_loader, device)\n",
    "print(acc)"
   ]
  },
  {
   "cell_type": "markdown",
   "metadata": {},
   "source": [
    "##### FMoW"
   ]
  },
  {
   "cell_type": "code",
   "execution_count": null,
   "metadata": {},
   "outputs": [],
   "source": []
  }
 ],
 "metadata": {
  "kernelspec": {
   "display_name": "Python [conda env:apouget-test] *",
   "language": "python",
   "name": "conda-env-apouget-test-py"
  },
  "language_info": {
   "codemirror_mode": {
    "name": "ipython",
    "version": 3
   },
   "file_extension": ".py",
   "mimetype": "text/x-python",
   "name": "python",
   "nbconvert_exporter": "python",
   "pygments_lexer": "ipython3",
   "version": "3.11.9"
  }
 },
 "nbformat": 4,
 "nbformat_minor": 2
}
