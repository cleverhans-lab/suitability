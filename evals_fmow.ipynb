{
 "cells": [
  {
   "cell_type": "markdown",
   "metadata": {},
   "source": [
    "## Evaluating the suitability filter on FMoW"
   ]
  },
  {
   "cell_type": "code",
   "execution_count": 1,
   "metadata": {},
   "outputs": [],
   "source": [
    "import importlib\n",
    "import random\n",
    "\n",
    "import numpy as np\n",
    "import pandas as pd\n",
    "import torch\n",
    "from suitability.filter import suitability_efficient\n",
    "\n",
    "importlib.reload(suitability_efficient)\n",
    "\n",
    "from suitability.filter.suitability_efficient import SuitabilityFilter\n",
    "\n",
    "# Set seeds for reproducibility\n",
    "random.seed(32)\n",
    "np.random.seed(32)"
   ]
  },
  {
   "cell_type": "markdown",
   "metadata": {},
   "source": [
    "## Evaluate suitability filter"
   ]
  },
  {
   "cell_type": "code",
   "execution_count": 1,
   "metadata": {},
   "outputs": [],
   "source": [
    "import numpy as np\n",
    "\n",
    "def calculate_ece_and_bias(probs, correct, n_bins=10):\n",
    "    \"\"\"\n",
    "    Calculate the Expected Calibration Error (ECE) and Calibration Bias (CB).\n",
    "    \n",
    "    Args:\n",
    "        probs (np.ndarray): Array of predicted probabilities for the positive class, shape (n_samples,).\n",
    "        correct (np.ndarray): Array of correct binary labels (0 or 1), shape (n_samples,).\n",
    "        n_bins (int): Number of bins to use for calibration calculation.\n",
    "        \n",
    "    Returns:\n",
    "        tuple: (ECE, CB), where:\n",
    "            - ECE (float): Expected Calibration Error.\n",
    "            - CB (float): Calibration Bias (positive = overestimation, negative = underestimation).\n",
    "    \"\"\"\n",
    "    # Define bin edges and initialize variables\n",
    "    bins = np.linspace(0, 1, n_bins + 1)\n",
    "    ece = 0\n",
    "    cb = 0\n",
    "    \n",
    "    # Assign probabilities to bins\n",
    "    bin_indices = np.digitize(probs, bins) - 1  # Map probabilities to bin indices (0 to n_bins-1)\n",
    "    \n",
    "    # Calculate ECE and CB\n",
    "    for i in range(n_bins):\n",
    "        # Mask for the current bin\n",
    "        bin_mask = bin_indices == i\n",
    "        if np.sum(bin_mask) == 0:  # Skip empty bins\n",
    "            continue\n",
    "        \n",
    "        # Bin accuracy and confidence\n",
    "        bin_accuracy = np.mean(correct[bin_mask])\n",
    "        bin_confidence = np.mean(probs[bin_mask])\n",
    "        \n",
    "        # Bin weight\n",
    "        bin_weight = np.sum(bin_mask) / len(correct)\n",
    "        \n",
    "        # Update ECE and CB\n",
    "        ece += bin_weight * np.abs(bin_accuracy - bin_confidence)\n",
    "        # cb += bin_weight * (bin_confidence - bin_accuracy)\n",
    "\n",
    "    cb = np.mean(probs) - np.mean(correct)\n",
    "    \n",
    "    return ece, cb"
   ]
  },
  {
   "cell_type": "markdown",
   "metadata": {},
   "source": [
    "# ID SPLIT SUBSET EVALS"
   ]
  },
  {
   "cell_type": "code",
   "execution_count": 2,
   "metadata": {},
   "outputs": [
    {
     "name": "stderr",
     "output_type": "stream",
     "text": [
      "  0%|                                                                                                                                     | 0/16 [00:00<?, ?it/s]"
     ]
    },
    {
     "name": "stdout",
     "output_type": "stream",
     "text": [
      "Evaluating user split: id_val with filter {'year': [2002, 2003, 2004, 2005, 2006]}\n"
     ]
    },
    {
     "name": "stderr",
     "output_type": "stream",
     "text": [
      "  6%|███████▊                                                                                                                     | 1/16 [00:12<03:08, 12.57s/it]"
     ]
    },
    {
     "name": "stdout",
     "output_type": "stream",
     "text": [
      "Evaluating user split: id_val with filter {'year': [2007, 2008, 2009]}\n"
     ]
    },
    {
     "name": "stderr",
     "output_type": "stream",
     "text": [
      " 12%|███████████████▋                                                                                                             | 2/16 [00:25<02:56, 12.60s/it]"
     ]
    },
    {
     "name": "stdout",
     "output_type": "stream",
     "text": [
      "Evaluating user split: id_val with filter {'year': [2010]}\n"
     ]
    },
    {
     "name": "stderr",
     "output_type": "stream",
     "text": [
      " 19%|███████████████████████▍                                                                                                     | 3/16 [00:38<02:45, 12.73s/it]"
     ]
    },
    {
     "name": "stdout",
     "output_type": "stream",
     "text": [
      "Evaluating user split: id_val with filter {'year': [2011]}\n"
     ]
    },
    {
     "name": "stderr",
     "output_type": "stream",
     "text": [
      " 25%|███████████████████████████████▎                                                                                             | 4/16 [00:51<02:36, 13.07s/it]"
     ]
    },
    {
     "name": "stdout",
     "output_type": "stream",
     "text": [
      "Evaluating user split: id_val with filter {'year': [2012]}\n"
     ]
    },
    {
     "name": "stderr",
     "output_type": "stream",
     "text": [
      " 31%|███████████████████████████████████████                                                                                      | 5/16 [01:04<02:23, 13.06s/it]"
     ]
    },
    {
     "name": "stdout",
     "output_type": "stream",
     "text": [
      "Evaluating user split: id_val with filter {'region': ['Asia']}\n"
     ]
    },
    {
     "name": "stderr",
     "output_type": "stream",
     "text": [
      " 38%|██████████████████████████████████████████████▉                                                                              | 6/16 [01:17<02:10, 13.02s/it]"
     ]
    },
    {
     "name": "stdout",
     "output_type": "stream",
     "text": [
      "Evaluating user split: id_val with filter {'region': ['Europe']}\n"
     ]
    },
    {
     "name": "stderr",
     "output_type": "stream",
     "text": [
      " 44%|██████████████████████████████████████████████████████▋                                                                      | 7/16 [01:31<01:58, 13.14s/it]"
     ]
    },
    {
     "name": "stdout",
     "output_type": "stream",
     "text": [
      "Evaluating user split: id_val with filter {'region': ['Americas']}\n"
     ]
    },
    {
     "name": "stderr",
     "output_type": "stream",
     "text": [
      " 50%|██████████████████████████████████████████████████████████████▌                                                              | 8/16 [01:44<01:44, 13.09s/it]"
     ]
    },
    {
     "name": "stdout",
     "output_type": "stream",
     "text": [
      "Evaluating user split: id_test with filter {'year': [2002, 2003, 2004, 2005, 2006]}\n"
     ]
    },
    {
     "name": "stderr",
     "output_type": "stream",
     "text": [
      " 56%|██████████████████████████████████████████████████████████████████████▎                                                      | 9/16 [01:57<01:32, 13.16s/it]"
     ]
    },
    {
     "name": "stdout",
     "output_type": "stream",
     "text": [
      "Evaluating user split: id_test with filter {'year': [2007, 2008, 2009]}\n"
     ]
    },
    {
     "name": "stderr",
     "output_type": "stream",
     "text": [
      " 62%|█████████████████████████████████████████████████████████████████████████████▌                                              | 10/16 [02:10<01:18, 13.02s/it]"
     ]
    },
    {
     "name": "stdout",
     "output_type": "stream",
     "text": [
      "Evaluating user split: id_test with filter {'year': [2010]}\n"
     ]
    },
    {
     "name": "stderr",
     "output_type": "stream",
     "text": [
      " 69%|█████████████████████████████████████████████████████████████████████████████████████▎                                      | 11/16 [02:22<01:04, 12.99s/it]"
     ]
    },
    {
     "name": "stdout",
     "output_type": "stream",
     "text": [
      "Evaluating user split: id_test with filter {'year': [2011]}\n"
     ]
    },
    {
     "name": "stderr",
     "output_type": "stream",
     "text": [
      " 75%|█████████████████████████████████████████████████████████████████████████████████████████████                               | 12/16 [02:35<00:51, 12.96s/it]"
     ]
    },
    {
     "name": "stdout",
     "output_type": "stream",
     "text": [
      "Evaluating user split: id_test with filter {'year': [2012]}\n"
     ]
    },
    {
     "name": "stderr",
     "output_type": "stream",
     "text": [
      " 81%|████████████████████████████████████████████████████████████████████████████████████████████████████▊                       | 13/16 [02:48<00:38, 12.98s/it]"
     ]
    },
    {
     "name": "stdout",
     "output_type": "stream",
     "text": [
      "Evaluating user split: id_test with filter {'region': ['Asia']}\n"
     ]
    },
    {
     "name": "stderr",
     "output_type": "stream",
     "text": [
      " 88%|████████████████████████████████████████████████████████████████████████████████████████████████████████████▌               | 14/16 [03:02<00:26, 13.09s/it]"
     ]
    },
    {
     "name": "stdout",
     "output_type": "stream",
     "text": [
      "Evaluating user split: id_test with filter {'region': ['Europe']}\n"
     ]
    },
    {
     "name": "stderr",
     "output_type": "stream",
     "text": [
      " 94%|████████████████████████████████████████████████████████████████████████████████████████████████████████████████████▎       | 15/16 [03:15<00:13, 13.15s/it]"
     ]
    },
    {
     "name": "stdout",
     "output_type": "stream",
     "text": [
      "Evaluating user split: id_test with filter {'region': ['Americas']}\n"
     ]
    },
    {
     "name": "stderr",
     "output_type": "stream",
     "text": [
      "100%|████████████████████████████████████████████████████████████████████████████████████████████████████████████████████████████| 16/16 [03:28<00:00, 13.03s/it]\n",
      "  0%|                                                                                                                                     | 0/16 [00:00<?, ?it/s]"
     ]
    },
    {
     "name": "stdout",
     "output_type": "stream",
     "text": [
      "Evaluating user split: id_val with filter {'year': [2002, 2003, 2004, 2005, 2006]}\n"
     ]
    },
    {
     "name": "stderr",
     "output_type": "stream",
     "text": [
      "  6%|███████▊                                                                                                                     | 1/16 [00:12<03:13, 12.90s/it]"
     ]
    },
    {
     "name": "stdout",
     "output_type": "stream",
     "text": [
      "Evaluating user split: id_val with filter {'year': [2007, 2008, 2009]}\n"
     ]
    },
    {
     "name": "stderr",
     "output_type": "stream",
     "text": [
      " 12%|███████████████▋                                                                                                             | 2/16 [00:25<02:59, 12.83s/it]"
     ]
    },
    {
     "name": "stdout",
     "output_type": "stream",
     "text": [
      "Evaluating user split: id_val with filter {'year': [2010]}\n"
     ]
    },
    {
     "name": "stderr",
     "output_type": "stream",
     "text": [
      " 19%|███████████████████████▍                                                                                                     | 3/16 [00:39<02:52, 13.29s/it]"
     ]
    },
    {
     "name": "stdout",
     "output_type": "stream",
     "text": [
      "Evaluating user split: id_val with filter {'year': [2011]}\n"
     ]
    },
    {
     "name": "stderr",
     "output_type": "stream",
     "text": [
      " 25%|███████████████████████████████▎                                                                                             | 4/16 [00:52<02:37, 13.15s/it]"
     ]
    },
    {
     "name": "stdout",
     "output_type": "stream",
     "text": [
      "Evaluating user split: id_val with filter {'year': [2012]}\n"
     ]
    },
    {
     "name": "stderr",
     "output_type": "stream",
     "text": [
      " 31%|███████████████████████████████████████                                                                                      | 5/16 [01:05<02:24, 13.11s/it]"
     ]
    },
    {
     "name": "stdout",
     "output_type": "stream",
     "text": [
      "Evaluating user split: id_val with filter {'region': ['Asia']}\n"
     ]
    },
    {
     "name": "stderr",
     "output_type": "stream",
     "text": [
      " 38%|██████████████████████████████████████████████▉                                                                              | 6/16 [01:18<02:10, 13.06s/it]"
     ]
    },
    {
     "name": "stdout",
     "output_type": "stream",
     "text": [
      "Evaluating user split: id_val with filter {'region': ['Europe']}\n"
     ]
    },
    {
     "name": "stderr",
     "output_type": "stream",
     "text": [
      " 44%|██████████████████████████████████████████████████████▋                                                                      | 7/16 [01:32<02:00, 13.42s/it]"
     ]
    },
    {
     "name": "stdout",
     "output_type": "stream",
     "text": [
      "Evaluating user split: id_val with filter {'region': ['Americas']}\n"
     ]
    },
    {
     "name": "stderr",
     "output_type": "stream",
     "text": [
      " 50%|██████████████████████████████████████████████████████████████▌                                                              | 8/16 [01:45<01:46, 13.28s/it]"
     ]
    },
    {
     "name": "stdout",
     "output_type": "stream",
     "text": [
      "Evaluating user split: id_test with filter {'year': [2002, 2003, 2004, 2005, 2006]}\n"
     ]
    },
    {
     "name": "stderr",
     "output_type": "stream",
     "text": [
      " 56%|██████████████████████████████████████████████████████████████████████▎                                                      | 9/16 [01:58<01:31, 13.12s/it]"
     ]
    },
    {
     "name": "stdout",
     "output_type": "stream",
     "text": [
      "Evaluating user split: id_test with filter {'year': [2007, 2008, 2009]}\n"
     ]
    },
    {
     "name": "stderr",
     "output_type": "stream",
     "text": [
      " 62%|█████████████████████████████████████████████████████████████████████████████▌                                              | 10/16 [02:11<01:18, 13.05s/it]"
     ]
    },
    {
     "name": "stdout",
     "output_type": "stream",
     "text": [
      "Evaluating user split: id_test with filter {'year': [2010]}\n"
     ]
    },
    {
     "name": "stderr",
     "output_type": "stream",
     "text": [
      " 69%|█████████████████████████████████████████████████████████████████████████████████████▎                                      | 11/16 [02:24<01:05, 13.03s/it]"
     ]
    },
    {
     "name": "stdout",
     "output_type": "stream",
     "text": [
      "Evaluating user split: id_test with filter {'year': [2011]}\n"
     ]
    },
    {
     "name": "stderr",
     "output_type": "stream",
     "text": [
      " 75%|█████████████████████████████████████████████████████████████████████████████████████████████                               | 12/16 [02:37<00:52, 13.24s/it]"
     ]
    },
    {
     "name": "stdout",
     "output_type": "stream",
     "text": [
      "Evaluating user split: id_test with filter {'year': [2012]}\n"
     ]
    },
    {
     "name": "stderr",
     "output_type": "stream",
     "text": [
      " 81%|████████████████████████████████████████████████████████████████████████████████████████████████████▊                       | 13/16 [02:51<00:39, 13.21s/it]"
     ]
    },
    {
     "name": "stdout",
     "output_type": "stream",
     "text": [
      "Evaluating user split: id_test with filter {'region': ['Asia']}\n"
     ]
    },
    {
     "name": "stderr",
     "output_type": "stream",
     "text": [
      " 88%|████████████████████████████████████████████████████████████████████████████████████████████████████████████▌               | 14/16 [03:03<00:26, 13.11s/it]"
     ]
    },
    {
     "name": "stdout",
     "output_type": "stream",
     "text": [
      "Evaluating user split: id_test with filter {'region': ['Europe']}\n"
     ]
    },
    {
     "name": "stderr",
     "output_type": "stream",
     "text": [
      " 94%|████████████████████████████████████████████████████████████████████████████████████████████████████████████████████▎       | 15/16 [03:17<00:13, 13.19s/it]"
     ]
    },
    {
     "name": "stdout",
     "output_type": "stream",
     "text": [
      "Evaluating user split: id_test with filter {'region': ['Americas']}\n"
     ]
    },
    {
     "name": "stderr",
     "output_type": "stream",
     "text": [
      "100%|████████████████████████████████████████████████████████████████████████████████████████████████████████████████████████████| 16/16 [03:30<00:00, 13.15s/it]\n",
      "  0%|                                                                                                                                     | 0/16 [00:00<?, ?it/s]"
     ]
    },
    {
     "name": "stdout",
     "output_type": "stream",
     "text": [
      "Evaluating user split: id_val with filter {'year': [2002, 2003, 2004, 2005, 2006]}\n"
     ]
    },
    {
     "name": "stderr",
     "output_type": "stream",
     "text": [
      "  6%|███████▊                                                                                                                     | 1/16 [00:13<03:19, 13.32s/it]"
     ]
    },
    {
     "name": "stdout",
     "output_type": "stream",
     "text": [
      "Evaluating user split: id_val with filter {'year': [2007, 2008, 2009]}\n"
     ]
    },
    {
     "name": "stderr",
     "output_type": "stream",
     "text": [
      " 12%|███████████████▋                                                                                                             | 2/16 [00:26<03:01, 12.95s/it]"
     ]
    },
    {
     "name": "stdout",
     "output_type": "stream",
     "text": [
      "Evaluating user split: id_val with filter {'year': [2010]}\n"
     ]
    },
    {
     "name": "stderr",
     "output_type": "stream",
     "text": [
      " 19%|███████████████████████▍                                                                                                     | 3/16 [00:39<02:49, 13.03s/it]"
     ]
    },
    {
     "name": "stdout",
     "output_type": "stream",
     "text": [
      "Evaluating user split: id_val with filter {'year': [2011]}\n"
     ]
    },
    {
     "name": "stderr",
     "output_type": "stream",
     "text": [
      " 25%|███████████████████████████████▎                                                                                             | 4/16 [00:52<02:36, 13.03s/it]"
     ]
    },
    {
     "name": "stdout",
     "output_type": "stream",
     "text": [
      "Evaluating user split: id_val with filter {'year': [2012]}\n"
     ]
    },
    {
     "name": "stderr",
     "output_type": "stream",
     "text": [
      " 31%|███████████████████████████████████████                                                                                      | 5/16 [01:05<02:23, 13.07s/it]"
     ]
    },
    {
     "name": "stdout",
     "output_type": "stream",
     "text": [
      "Evaluating user split: id_val with filter {'region': ['Asia']}\n"
     ]
    },
    {
     "name": "stderr",
     "output_type": "stream",
     "text": [
      " 38%|██████████████████████████████████████████████▉                                                                              | 6/16 [01:18<02:11, 13.17s/it]"
     ]
    },
    {
     "name": "stdout",
     "output_type": "stream",
     "text": [
      "Evaluating user split: id_val with filter {'region': ['Europe']}\n"
     ]
    },
    {
     "name": "stderr",
     "output_type": "stream",
     "text": [
      " 44%|██████████████████████████████████████████████████████▋                                                                      | 7/16 [01:32<01:59, 13.26s/it]"
     ]
    },
    {
     "name": "stdout",
     "output_type": "stream",
     "text": [
      "Evaluating user split: id_val with filter {'region': ['Americas']}\n"
     ]
    },
    {
     "name": "stderr",
     "output_type": "stream",
     "text": [
      " 50%|██████████████████████████████████████████████████████████████▌                                                              | 8/16 [01:45<01:45, 13.19s/it]"
     ]
    },
    {
     "name": "stdout",
     "output_type": "stream",
     "text": [
      "Evaluating user split: id_test with filter {'year': [2002, 2003, 2004, 2005, 2006]}\n"
     ]
    },
    {
     "name": "stderr",
     "output_type": "stream",
     "text": [
      " 56%|██████████████████████████████████████████████████████████████████████▎                                                      | 9/16 [01:57<01:31, 13.03s/it]"
     ]
    },
    {
     "name": "stdout",
     "output_type": "stream",
     "text": [
      "Evaluating user split: id_test with filter {'year': [2007, 2008, 2009]}\n"
     ]
    },
    {
     "name": "stderr",
     "output_type": "stream",
     "text": [
      " 62%|█████████████████████████████████████████████████████████████████████████████▌                                              | 10/16 [02:10<01:17, 12.94s/it]"
     ]
    },
    {
     "name": "stdout",
     "output_type": "stream",
     "text": [
      "Evaluating user split: id_test with filter {'year': [2010]}\n"
     ]
    },
    {
     "name": "stderr",
     "output_type": "stream",
     "text": [
      " 69%|█████████████████████████████████████████████████████████████████████████████████████▎                                      | 11/16 [02:23<01:05, 13.01s/it]"
     ]
    },
    {
     "name": "stdout",
     "output_type": "stream",
     "text": [
      "Evaluating user split: id_test with filter {'year': [2011]}\n"
     ]
    },
    {
     "name": "stderr",
     "output_type": "stream",
     "text": [
      " 75%|█████████████████████████████████████████████████████████████████████████████████████████████                               | 12/16 [02:36<00:52, 13.01s/it]"
     ]
    },
    {
     "name": "stdout",
     "output_type": "stream",
     "text": [
      "Evaluating user split: id_test with filter {'year': [2012]}\n"
     ]
    },
    {
     "name": "stderr",
     "output_type": "stream",
     "text": [
      " 81%|████████████████████████████████████████████████████████████████████████████████████████████████████▊                       | 13/16 [02:49<00:39, 13.01s/it]"
     ]
    },
    {
     "name": "stdout",
     "output_type": "stream",
     "text": [
      "Evaluating user split: id_test with filter {'region': ['Asia']}\n"
     ]
    },
    {
     "name": "stderr",
     "output_type": "stream",
     "text": [
      " 88%|████████████████████████████████████████████████████████████████████████████████████████████████████████████▌               | 14/16 [03:02<00:26, 13.01s/it]"
     ]
    },
    {
     "name": "stdout",
     "output_type": "stream",
     "text": [
      "Evaluating user split: id_test with filter {'region': ['Europe']}\n"
     ]
    },
    {
     "name": "stderr",
     "output_type": "stream",
     "text": [
      " 94%|████████████████████████████████████████████████████████████████████████████████████████████████████████████████████▎       | 15/16 [03:16<00:13, 13.27s/it]"
     ]
    },
    {
     "name": "stdout",
     "output_type": "stream",
     "text": [
      "Evaluating user split: id_test with filter {'region': ['Americas']}\n"
     ]
    },
    {
     "name": "stderr",
     "output_type": "stream",
     "text": [
      "100%|████████████████████████████████████████████████████████████████████████████████████████████████████████████████████████████| 16/16 [03:29<00:00, 13.10s/it]\n"
     ]
    }
   ],
   "source": [
    "import pickle\n",
    "import random\n",
    "\n",
    "import numpy as np\n",
    "import pandas as pd\n",
    "import torch\n",
    "from tqdm import tqdm\n",
    "\n",
    "from suitability.filter.suitability_efficient import SuitabilityFilter\n",
    "from suitability.filter.tests import non_inferiority_ttest\n",
    "\n",
    "# Set seeds for reproducibility\n",
    "random.seed(32)\n",
    "np.random.seed(32)\n",
    "\n",
    "# Configuration\n",
    "data_name = \"fmow\"\n",
    "root_dir = \"/mfsnic/projects/suitability/\"\n",
    "device = torch.device(\"cuda\" if torch.cuda.is_available() else \"cpu\")\n",
    "\n",
    "# Load the model\n",
    "algorithm = \"ERM\"\n",
    "model_type = \"last\"\n",
    "seeds = [0, 1, 2]\n",
    "\n",
    "for seed in seeds:\n",
    "    # Load the features\n",
    "    feature_cache_file = (\n",
    "        f\"suitability/results/features/{data_name}_{algorithm}_{model_type}_{seed}.pkl\"\n",
    "    )\n",
    "    with open(feature_cache_file, \"rb\") as f:\n",
    "        full_feature_dict = pickle.load(f)\n",
    "    id_feature_dict = {}\n",
    "    id_feature_dict[\"id_val\"] = full_feature_dict[\"id_val\"]\n",
    "    id_feature_dict[\"id_test\"] = full_feature_dict[\"id_test\"]\n",
    "\n",
    "    # Load the split indices\n",
    "    split_cache_file = f\"suitability/results/split_indices/{data_name}_id.pkl\"\n",
    "    with open(split_cache_file, \"rb\") as f:\n",
    "        id_split_dict = pickle.load(f)\n",
    "\n",
    "    # Define suitability filter and experiment parameters\n",
    "    classifiers = [\n",
    "        \"logistic_regression\"\n",
    "    ]  # \"logistic_regression\", \"svm\", \"random_forest\", \"gradient_boosting\", \"mlp\", \"decision_tree\"]\n",
    "    margins = [0, 0.005, 0.01, 0.05]\n",
    "    normalize = True\n",
    "    calibrated = True\n",
    "    sf_results = []\n",
    "    direct_testing_results = []\n",
    "    feature_subsets = [\n",
    "        # [0],\n",
    "        # [1],\n",
    "        # [2],\n",
    "        # [3],\n",
    "        # [4],\n",
    "        # [5],\n",
    "        # [6],\n",
    "        # [7],\n",
    "        # [8],\n",
    "        # [9],\n",
    "        # [10],\n",
    "        # [11],\n",
    "        # [4, 11],\n",
    "        # [4, 11, 8],\n",
    "        # [4, 11, 8, 6],\n",
    "        # [4, 11, 8, 6, 2],\n",
    "        # [4, 11, 8, 6, 2, 1],\n",
    "        # [4, 11, 8, 6, 2, 1, 0],\n",
    "        # [4, 11, 8, 6, 2, 1, 0, 7],\n",
    "        # [4, 11, 8, 6, 2, 1, 0, 7, 3],\n",
    "        # [4, 11, 8, 6, 2, 1, 0, 7, 3, 10],\n",
    "        # [4, 11, 8, 6, 2, 1, 0, 7, 3, 10, 5],\n",
    "        [0, 1, 2, 3, 4, 5, 6, 7, 8, 9, 10, 11],\n",
    "    ]\n",
    "    num_fold_arr = [15]\n",
    "\n",
    "    # Main loop\n",
    "    for user_split_name, user_filter in tqdm(id_split_dict.keys()):\n",
    "        print(f\"Evaluating user split: {user_split_name} with filter {user_filter}\")\n",
    "\n",
    "        # Get user split indices\n",
    "        user_split_indices = id_split_dict[(user_split_name, user_filter)]\n",
    "\n",
    "        # Get user split features and correctness\n",
    "        all_features, all_corr = id_feature_dict[user_split_name]\n",
    "        user_features = all_features[user_split_indices]\n",
    "        user_corr = all_corr[user_split_indices]\n",
    "        user_size = len(user_corr)\n",
    "        user_acc = np.mean(user_corr)\n",
    "\n",
    "        # Re-partition remaining data into folds\n",
    "        remaining_indices = np.setdiff1d(np.arange(len(all_corr)), user_split_indices)\n",
    "        remaining_features = all_features[remaining_indices]\n",
    "        remaining_corr = all_corr[remaining_indices]\n",
    "        if user_split_name == \"id_val\":\n",
    "            other_split_name = \"id_test\"\n",
    "        elif user_split_name == \"id_test\":\n",
    "            other_split_name = \"id_val\"\n",
    "        else:\n",
    "            raise ValueError(f\"Invalid split name: {user_split_name}\")\n",
    "        additional_features, additional_corr = id_feature_dict[other_split_name]\n",
    "        source_features = np.concatenate([remaining_features, additional_features], axis=0)\n",
    "        source_corr = np.concatenate([remaining_corr, additional_corr], axis=0)\n",
    "\n",
    "        for num_folds in num_fold_arr:\n",
    "            source_fold_size = len(source_corr) // num_folds\n",
    "            indices = np.arange(len(source_corr))\n",
    "            np.random.shuffle(indices)\n",
    "            fold_indices = [\n",
    "                indices[i * source_fold_size : (i + 1) * source_fold_size]\n",
    "                for i in range(num_folds)\n",
    "            ]\n",
    "\n",
    "            for i, reg_indices in enumerate(fold_indices):\n",
    "                reg_features = source_features[reg_indices]\n",
    "                reg_corr = source_corr[reg_indices]\n",
    "                reg_size = len(reg_corr)\n",
    "                reg_acc = np.mean(reg_corr)\n",
    "\n",
    "                for j, test_indices in enumerate(fold_indices):\n",
    "                    if i == j:\n",
    "                        continue\n",
    "                    test_features = source_features[test_indices]\n",
    "                    test_corr = source_corr[test_indices]\n",
    "                    test_size = len(test_corr)\n",
    "                    test_acc = np.mean(test_corr)\n",
    "\n",
    "                    for classifier in classifiers:\n",
    "                        for feature_subset in feature_subsets:\n",
    "                            suitability_filter = SuitabilityFilter(\n",
    "                                test_features,\n",
    "                                test_corr,\n",
    "                                reg_features,\n",
    "                                reg_corr,\n",
    "                                device,\n",
    "                                normalize=normalize,\n",
    "                                feature_subset=feature_subset,\n",
    "                            )\n",
    "                            suitability_filter.train_classifier(\n",
    "                                calibrated=calibrated, classifier=classifier\n",
    "                            )\n",
    "\n",
    "                            for margin in margins:\n",
    "                                # Test suitability filter\n",
    "                                sf_test = suitability_filter.suitability_test(\n",
    "                                    user_features=user_features, margin=margin, return_predictions=True\n",
    "                                )\n",
    "                                p_value = sf_test[\"p_value\"]\n",
    "                                ground_truth = user_acc >= test_acc - margin\n",
    "\n",
    "                                pred_user = sf_test[\"user_predictions\"]\n",
    "                                pred_test = sf_test[\"test_predictions\"]\n",
    "\n",
    "                                # Calculate ECE and CB\n",
    "                                ece_user, cb_user = calculate_ece_and_bias(\n",
    "                                    pred_user, user_corr\n",
    "                                )\n",
    "                                ece_test, cb_test = calculate_ece_and_bias(\n",
    "                                    pred_test, test_corr\n",
    "                                )\n",
    "\n",
    "                                sf_results.append(\n",
    "                                    {\n",
    "                                        \"data_name\": data_name,\n",
    "                                        \"algorithm\": algorithm,\n",
    "                                        \"seed\": seed,\n",
    "                                        \"model_type\": model_type,\n",
    "                                        \"normalize\": normalize,\n",
    "                                        \"calibrated\": calibrated,\n",
    "                                        \"margin\": margin,\n",
    "                                        \"reg_fold\": i,\n",
    "                                        \"reg_size\": reg_size,\n",
    "                                        \"reg_acc\": reg_acc,\n",
    "                                        \"test_fold\": j,\n",
    "                                        \"test_size\": test_size,\n",
    "                                        \"test_acc\": test_acc,\n",
    "                                        \"user_split\": user_split_name,\n",
    "                                        \"user_filter\": user_filter,\n",
    "                                        \"user_size\": user_size,\n",
    "                                        \"user_acc\": user_acc,\n",
    "                                        \"p_value\": p_value,\n",
    "                                        \"ground_truth\": ground_truth,\n",
    "                                        \"classifier\": classifier,\n",
    "                                        \"feature_subset\": feature_subset,\n",
    "                                        \"acc_diff\": user_acc - test_acc,\n",
    "                                        \"acc_diff_adjusted\": user_acc + margin - test_acc,\n",
    "                                        \"ece_user\": ece_user,\n",
    "                                        \"cb_user\": cb_user,\n",
    "                                        \"ece_test\": ece_test,\n",
    "                                        \"cb_test\": cb_test,\n",
    "                                        \"mean_pred_user\": np.mean(pred_user),\n",
    "                                        \"mean_pred_test\": np.mean(pred_test),\n",
    "                                        \"std_pred_user\": np.std(pred_user),\n",
    "                                        \"std_pred_test\": np.std(pred_test),\n",
    "                                    }\n",
    "                                )\n",
    "\n",
    "                                # Run non-inferiority test on features directly\n",
    "                                # if (\n",
    "                                #     len(feature_subset) == 1\n",
    "                                #     and margin == 0\n",
    "                                #     and classifier == \"logistic_regression\"\n",
    "                                #     and (j == 0 or (i == 0 and j == 1))\n",
    "                                # ):\n",
    "                                #     test_feature_subset = test_features[:, feature_subset].flatten()\n",
    "                                #     user_feature_subset = user_features[:, feature_subset].flatten()\n",
    "                                #     test_1 = non_inferiority_ttest(\n",
    "                                #         test_feature_subset,\n",
    "                                #         user_feature_subset,\n",
    "                                #         increase_good=True,\n",
    "                                #     )\n",
    "                                #     test_2 = non_inferiority_ttest(\n",
    "                                #         test_feature_subset,\n",
    "                                #         user_feature_subset,\n",
    "                                #         increase_good=False,\n",
    "                                #     )\n",
    "                                #     direct_testing_results.append(\n",
    "                                #         {\n",
    "                                #             \"data_name\": data_name,\n",
    "                                #             \"algorithm\": algorithm,\n",
    "                                #             \"seed\": seed,\n",
    "                                #             \"model_type\": model_type,\n",
    "                                #             \"test_fold\": j,\n",
    "                                #             \"test_size\": test_size,\n",
    "                                #             \"test_acc\": test_acc,\n",
    "                                #             \"user_split\": user_split_name,\n",
    "                                #             \"user_filter\": user_filter,\n",
    "                                #             \"user_size\": user_size,\n",
    "                                #             \"user_acc\": user_acc,\n",
    "                                #             \"p_value_increase_good\": test_1[\"p_value\"],\n",
    "                                #             \"p_value_decrease_good\": test_2[\"p_value\"],\n",
    "                                #             \"ground_truth\": ground_truth,\n",
    "                                #             \"feature_subset\": feature_subset,\n",
    "                                #             \"acc_diff\": user_acc - test_acc,\n",
    "                                #         }\n",
    "                                #     )\n",
    "\n",
    "\n",
    "    # Save results\n",
    "    sf_evals = pd.DataFrame(sf_results)\n",
    "    sf_evals.to_csv(\n",
    "        f\"suitability/results/sf_evals/irm/fmow_sf_results_id_calibration_{algorithm}_{model_type}_{seed}_FINAL.csv\",\n",
    "        index=False,\n",
    "    )\n",
    "    # direct_testing_evals = pd.DataFrame(direct_testing_results)\n",
    "    # direct_testing_evals.to_csv(\n",
    "    #     f\"suitability/results/sf_evals/irm/fmow_direct_testing_results_id_calibration_{algorithm}_{model_type}_{seed}_NEW.csv\",\n",
    "    #     index=False,\n",
    "    # )\n"
   ]
  },
  {
   "cell_type": "markdown",
   "metadata": {},
   "source": [
    "# OOD SPLIT SUBSET EVALS"
   ]
  },
  {
   "cell_type": "code",
   "execution_count": 3,
   "metadata": {},
   "outputs": [
    {
     "name": "stderr",
     "output_type": "stream",
     "text": [
      "  0%|                                                                                                                                     | 0/30 [00:00<?, ?it/s]"
     ]
    },
    {
     "name": "stdout",
     "output_type": "stream",
     "text": [
      "Evaluating user split: val with filter {'year': [2013]}\n"
     ]
    },
    {
     "name": "stderr",
     "output_type": "stream",
     "text": [
      "  3%|████▏                                                                                                                        | 1/30 [00:13<06:34, 13.60s/it]"
     ]
    },
    {
     "name": "stdout",
     "output_type": "stream",
     "text": [
      "Evaluating user split: val with filter {'year': [2014]}\n"
     ]
    },
    {
     "name": "stderr",
     "output_type": "stream",
     "text": [
      "  7%|████████▎                                                                                                                    | 2/30 [00:27<06:33, 14.04s/it]"
     ]
    },
    {
     "name": "stdout",
     "output_type": "stream",
     "text": [
      "Evaluating user split: val with filter {'year': [2015]}\n"
     ]
    },
    {
     "name": "stderr",
     "output_type": "stream",
     "text": [
      " 10%|████████████▌                                                                                                                | 3/30 [00:43<06:36, 14.68s/it]"
     ]
    },
    {
     "name": "stdout",
     "output_type": "stream",
     "text": [
      "Evaluating user split: val with filter {'region': ['Asia']}\n"
     ]
    },
    {
     "name": "stderr",
     "output_type": "stream",
     "text": [
      " 13%|████████████████▋                                                                                                            | 4/30 [00:57<06:19, 14.58s/it]"
     ]
    },
    {
     "name": "stdout",
     "output_type": "stream",
     "text": [
      "Evaluating user split: val with filter {'region': ['Europe']}\n"
     ]
    },
    {
     "name": "stderr",
     "output_type": "stream",
     "text": [
      " 17%|████████████████████▊                                                                                                        | 5/30 [01:12<06:05, 14.62s/it]"
     ]
    },
    {
     "name": "stdout",
     "output_type": "stream",
     "text": [
      "Evaluating user split: val with filter {'region': ['Africa']}\n"
     ]
    },
    {
     "name": "stderr",
     "output_type": "stream",
     "text": [
      " 20%|█████████████████████████                                                                                                    | 6/30 [01:25<05:33, 13.90s/it]"
     ]
    },
    {
     "name": "stdout",
     "output_type": "stream",
     "text": [
      "Evaluating user split: val with filter {'region': ['Americas']}\n"
     ]
    },
    {
     "name": "stderr",
     "output_type": "stream",
     "text": [
      " 23%|█████████████████████████████▏                                                                                               | 7/30 [01:39<05:23, 14.05s/it]"
     ]
    },
    {
     "name": "stdout",
     "output_type": "stream",
     "text": [
      "Evaluating user split: val with filter {'region': ['Oceania']}\n"
     ]
    },
    {
     "name": "stderr",
     "output_type": "stream",
     "text": [
      " 27%|█████████████████████████████████▎                                                                                           | 8/30 [01:52<05:04, 13.85s/it]"
     ]
    },
    {
     "name": "stdout",
     "output_type": "stream",
     "text": [
      "Evaluating user split: val with filter {'region': 'Europe', 'year': 2013}\n"
     ]
    },
    {
     "name": "stderr",
     "output_type": "stream",
     "text": [
      " 30%|█████████████████████████████████████▌                                                                                       | 9/30 [02:05<04:44, 13.54s/it]"
     ]
    },
    {
     "name": "stdout",
     "output_type": "stream",
     "text": [
      "Evaluating user split: val with filter {'region': 'Europe', 'year': 2014}\n"
     ]
    },
    {
     "name": "stderr",
     "output_type": "stream",
     "text": [
      " 33%|█████████████████████████████████████████▎                                                                                  | 10/30 [02:18<04:28, 13.42s/it]"
     ]
    },
    {
     "name": "stdout",
     "output_type": "stream",
     "text": [
      "Evaluating user split: val with filter {'region': 'Europe', 'year': 2015}\n"
     ]
    },
    {
     "name": "stderr",
     "output_type": "stream",
     "text": [
      " 37%|█████████████████████████████████████████████▍                                                                              | 11/30 [02:32<04:15, 13.45s/it]"
     ]
    },
    {
     "name": "stdout",
     "output_type": "stream",
     "text": [
      "Evaluating user split: val with filter {'region': 'Asia', 'year': 2013}\n"
     ]
    },
    {
     "name": "stderr",
     "output_type": "stream",
     "text": [
      " 40%|█████████████████████████████████████████████████▌                                                                          | 12/30 [02:44<03:57, 13.20s/it]"
     ]
    },
    {
     "name": "stdout",
     "output_type": "stream",
     "text": [
      "Evaluating user split: val with filter {'region': 'Asia', 'year': 2014}\n"
     ]
    },
    {
     "name": "stderr",
     "output_type": "stream",
     "text": [
      " 43%|█████████████████████████████████████████████████████▋                                                                      | 13/30 [02:58<03:45, 13.29s/it]"
     ]
    },
    {
     "name": "stdout",
     "output_type": "stream",
     "text": [
      "Evaluating user split: val with filter {'region': 'Asia', 'year': 2015}\n"
     ]
    },
    {
     "name": "stderr",
     "output_type": "stream",
     "text": [
      " 47%|█████████████████████████████████████████████████████████▊                                                                  | 14/30 [03:11<03:31, 13.20s/it]"
     ]
    },
    {
     "name": "stdout",
     "output_type": "stream",
     "text": [
      "Evaluating user split: val with filter {'region': 'Americas', 'year': 2013}\n"
     ]
    },
    {
     "name": "stderr",
     "output_type": "stream",
     "text": [
      " 50%|██████████████████████████████████████████████████████████████                                                              | 15/30 [03:24<03:15, 13.06s/it]"
     ]
    },
    {
     "name": "stdout",
     "output_type": "stream",
     "text": [
      "Evaluating user split: val with filter {'region': 'Americas', 'year': 2014}\n"
     ]
    },
    {
     "name": "stderr",
     "output_type": "stream",
     "text": [
      " 53%|██████████████████████████████████████████████████████████████████▏                                                         | 16/30 [03:37<03:02, 13.07s/it]"
     ]
    },
    {
     "name": "stdout",
     "output_type": "stream",
     "text": [
      "Evaluating user split: val with filter {'region': 'Americas', 'year': 2015}\n"
     ]
    },
    {
     "name": "stderr",
     "output_type": "stream",
     "text": [
      " 57%|██████████████████████████████████████████████████████████████████████▎                                                     | 17/30 [03:50<02:51, 13.18s/it]"
     ]
    },
    {
     "name": "stdout",
     "output_type": "stream",
     "text": [
      "Evaluating user split: test with filter {'year': 2016}\n"
     ]
    },
    {
     "name": "stderr",
     "output_type": "stream",
     "text": [
      " 60%|██████████████████████████████████████████████████████████████████████████▍                                                 | 18/30 [04:08<02:53, 14.45s/it]"
     ]
    },
    {
     "name": "stdout",
     "output_type": "stream",
     "text": [
      "Evaluating user split: test with filter {'year': 2017}\n"
     ]
    },
    {
     "name": "stderr",
     "output_type": "stream",
     "text": [
      " 63%|██████████████████████████████████████████████████████████████████████████████▌                                             | 19/30 [04:22<02:38, 14.37s/it]"
     ]
    },
    {
     "name": "stdout",
     "output_type": "stream",
     "text": [
      "Evaluating user split: test with filter {'region': 'Asia'}\n"
     ]
    },
    {
     "name": "stderr",
     "output_type": "stream",
     "text": [
      " 67%|██████████████████████████████████████████████████████████████████████████████████▋                                         | 20/30 [04:36<02:21, 14.18s/it]"
     ]
    },
    {
     "name": "stdout",
     "output_type": "stream",
     "text": [
      "Evaluating user split: test with filter {'region': 'Europe'}\n"
     ]
    },
    {
     "name": "stderr",
     "output_type": "stream",
     "text": [
      " 70%|██████████████████████████████████████████████████████████████████████████████████████▊                                     | 21/30 [04:50<02:07, 14.17s/it]"
     ]
    },
    {
     "name": "stdout",
     "output_type": "stream",
     "text": [
      "Evaluating user split: test with filter {'region': 'Africa'}\n"
     ]
    },
    {
     "name": "stderr",
     "output_type": "stream",
     "text": [
      " 73%|██████████████████████████████████████████████████████████████████████████████████████████▉                                 | 22/30 [05:03<01:52, 14.02s/it]"
     ]
    },
    {
     "name": "stdout",
     "output_type": "stream",
     "text": [
      "Evaluating user split: test with filter {'region': 'Americas'}\n"
     ]
    },
    {
     "name": "stderr",
     "output_type": "stream",
     "text": [
      " 77%|███████████████████████████████████████████████████████████████████████████████████████████████                             | 23/30 [05:18<01:39, 14.26s/it]"
     ]
    },
    {
     "name": "stdout",
     "output_type": "stream",
     "text": [
      "Evaluating user split: test with filter {'region': 'Oceania'}\n"
     ]
    },
    {
     "name": "stderr",
     "output_type": "stream",
     "text": [
      " 80%|███████████████████████████████████████████████████████████████████████████████████████████████████▏                        | 24/30 [05:31<01:22, 13.75s/it]"
     ]
    },
    {
     "name": "stdout",
     "output_type": "stream",
     "text": [
      "Evaluating user split: test with filter {'region': 'Europe', 'year': 2016}\n"
     ]
    },
    {
     "name": "stderr",
     "output_type": "stream",
     "text": [
      " 83%|███████████████████████████████████████████████████████████████████████████████████████████████████████▎                    | 25/30 [05:44<01:08, 13.73s/it]"
     ]
    },
    {
     "name": "stdout",
     "output_type": "stream",
     "text": [
      "Evaluating user split: test with filter {'region': 'Europe', 'year': 2017}\n"
     ]
    },
    {
     "name": "stderr",
     "output_type": "stream",
     "text": [
      " 87%|███████████████████████████████████████████████████████████████████████████████████████████████████████████▍                | 26/30 [05:57<00:53, 13.41s/it]"
     ]
    },
    {
     "name": "stdout",
     "output_type": "stream",
     "text": [
      "Evaluating user split: test with filter {'region': 'Asia', 'year': 2016}\n"
     ]
    },
    {
     "name": "stderr",
     "output_type": "stream",
     "text": [
      " 90%|███████████████████████████████████████████████████████████████████████████████████████████████████████████████▌            | 27/30 [06:11<00:40, 13.54s/it]"
     ]
    },
    {
     "name": "stdout",
     "output_type": "stream",
     "text": [
      "Evaluating user split: test with filter {'region': 'Asia', 'year': 2017}\n"
     ]
    },
    {
     "name": "stderr",
     "output_type": "stream",
     "text": [
      " 93%|███████████████████████████████████████████████████████████████████████████████████████████████████████████████████▋        | 28/30 [06:24<00:26, 13.34s/it]"
     ]
    },
    {
     "name": "stdout",
     "output_type": "stream",
     "text": [
      "Evaluating user split: test with filter {'region': 'Americas', 'year': 2016}\n"
     ]
    },
    {
     "name": "stderr",
     "output_type": "stream",
     "text": [
      " 97%|███████████████████████████████████████████████████████████████████████████████████████████████████████████████████████▊    | 29/30 [06:38<00:13, 13.59s/it]"
     ]
    },
    {
     "name": "stdout",
     "output_type": "stream",
     "text": [
      "Evaluating user split: test with filter {'region': 'Americas', 'year': 2017}\n"
     ]
    },
    {
     "name": "stderr",
     "output_type": "stream",
     "text": [
      "100%|████████████████████████████████████████████████████████████████████████████████████████████████████████████████████████████| 30/30 [06:51<00:00, 13.71s/it]\n",
      "  0%|                                                                                                                                     | 0/30 [00:00<?, ?it/s]"
     ]
    },
    {
     "name": "stdout",
     "output_type": "stream",
     "text": [
      "Evaluating user split: val with filter {'year': [2013]}\n"
     ]
    },
    {
     "name": "stderr",
     "output_type": "stream",
     "text": [
      "  3%|████▏                                                                                                                        | 1/30 [00:14<06:57, 14.41s/it]"
     ]
    },
    {
     "name": "stdout",
     "output_type": "stream",
     "text": [
      "Evaluating user split: val with filter {'year': [2014]}\n"
     ]
    },
    {
     "name": "stderr",
     "output_type": "stream",
     "text": [
      "  7%|████████▎                                                                                                                    | 2/30 [00:28<06:41, 14.32s/it]"
     ]
    },
    {
     "name": "stdout",
     "output_type": "stream",
     "text": [
      "Evaluating user split: val with filter {'year': [2015]}\n"
     ]
    },
    {
     "name": "stderr",
     "output_type": "stream",
     "text": [
      " 10%|████████████▌                                                                                                                | 3/30 [00:44<06:40, 14.82s/it]"
     ]
    },
    {
     "name": "stdout",
     "output_type": "stream",
     "text": [
      "Evaluating user split: val with filter {'region': ['Asia']}\n"
     ]
    },
    {
     "name": "stderr",
     "output_type": "stream",
     "text": [
      " 13%|████████████████▋                                                                                                            | 4/30 [00:57<06:14, 14.42s/it]"
     ]
    },
    {
     "name": "stdout",
     "output_type": "stream",
     "text": [
      "Evaluating user split: val with filter {'region': ['Europe']}\n"
     ]
    },
    {
     "name": "stderr",
     "output_type": "stream",
     "text": [
      " 17%|████████████████████▊                                                                                                        | 5/30 [01:13<06:07, 14.70s/it]"
     ]
    },
    {
     "name": "stdout",
     "output_type": "stream",
     "text": [
      "Evaluating user split: val with filter {'region': ['Africa']}\n"
     ]
    },
    {
     "name": "stderr",
     "output_type": "stream",
     "text": [
      " 20%|█████████████████████████                                                                                                    | 6/30 [01:25<05:36, 14.02s/it]"
     ]
    },
    {
     "name": "stdout",
     "output_type": "stream",
     "text": [
      "Evaluating user split: val with filter {'region': ['Americas']}\n"
     ]
    },
    {
     "name": "stderr",
     "output_type": "stream",
     "text": [
      " 23%|█████████████████████████████▏                                                                                               | 7/30 [01:40<05:25, 14.16s/it]"
     ]
    },
    {
     "name": "stdout",
     "output_type": "stream",
     "text": [
      "Evaluating user split: val with filter {'region': ['Oceania']}\n"
     ]
    },
    {
     "name": "stderr",
     "output_type": "stream",
     "text": [
      " 27%|█████████████████████████████████▎                                                                                           | 8/30 [01:52<05:00, 13.67s/it]"
     ]
    },
    {
     "name": "stdout",
     "output_type": "stream",
     "text": [
      "Evaluating user split: val with filter {'region': 'Europe', 'year': 2013}\n"
     ]
    },
    {
     "name": "stderr",
     "output_type": "stream",
     "text": [
      " 30%|█████████████████████████████████████▌                                                                                       | 9/30 [02:05<04:43, 13.48s/it]"
     ]
    },
    {
     "name": "stdout",
     "output_type": "stream",
     "text": [
      "Evaluating user split: val with filter {'region': 'Europe', 'year': 2014}\n"
     ]
    },
    {
     "name": "stderr",
     "output_type": "stream",
     "text": [
      " 33%|█████████████████████████████████████████▎                                                                                  | 10/30 [02:19<04:33, 13.65s/it]"
     ]
    },
    {
     "name": "stdout",
     "output_type": "stream",
     "text": [
      "Evaluating user split: val with filter {'region': 'Europe', 'year': 2015}\n"
     ]
    },
    {
     "name": "stderr",
     "output_type": "stream",
     "text": [
      " 37%|█████████████████████████████████████████████▍                                                                              | 11/30 [02:33<04:19, 13.63s/it]"
     ]
    },
    {
     "name": "stdout",
     "output_type": "stream",
     "text": [
      "Evaluating user split: val with filter {'region': 'Asia', 'year': 2013}\n"
     ]
    },
    {
     "name": "stderr",
     "output_type": "stream",
     "text": [
      " 40%|█████████████████████████████████████████████████▌                                                                          | 12/30 [02:46<04:00, 13.36s/it]"
     ]
    },
    {
     "name": "stdout",
     "output_type": "stream",
     "text": [
      "Evaluating user split: val with filter {'region': 'Asia', 'year': 2014}\n"
     ]
    },
    {
     "name": "stderr",
     "output_type": "stream",
     "text": [
      " 43%|█████████████████████████████████████████████████████▋                                                                      | 13/30 [02:59<03:44, 13.21s/it]"
     ]
    },
    {
     "name": "stdout",
     "output_type": "stream",
     "text": [
      "Evaluating user split: val with filter {'region': 'Asia', 'year': 2015}\n"
     ]
    },
    {
     "name": "stderr",
     "output_type": "stream",
     "text": [
      " 47%|█████████████████████████████████████████████████████████▊                                                                  | 14/30 [03:12<03:31, 13.23s/it]"
     ]
    },
    {
     "name": "stdout",
     "output_type": "stream",
     "text": [
      "Evaluating user split: val with filter {'region': 'Americas', 'year': 2013}\n"
     ]
    },
    {
     "name": "stderr",
     "output_type": "stream",
     "text": [
      " 50%|██████████████████████████████████████████████████████████████                                                              | 15/30 [03:25<03:19, 13.33s/it]"
     ]
    },
    {
     "name": "stdout",
     "output_type": "stream",
     "text": [
      "Evaluating user split: val with filter {'region': 'Americas', 'year': 2014}\n"
     ]
    },
    {
     "name": "stderr",
     "output_type": "stream",
     "text": [
      " 53%|██████████████████████████████████████████████████████████████████▏                                                         | 16/30 [03:38<03:04, 13.20s/it]"
     ]
    },
    {
     "name": "stdout",
     "output_type": "stream",
     "text": [
      "Evaluating user split: val with filter {'region': 'Americas', 'year': 2015}\n"
     ]
    },
    {
     "name": "stderr",
     "output_type": "stream",
     "text": [
      " 57%|██████████████████████████████████████████████████████████████████████▎                                                     | 17/30 [03:52<02:52, 13.25s/it]"
     ]
    },
    {
     "name": "stdout",
     "output_type": "stream",
     "text": [
      "Evaluating user split: test with filter {'year': 2016}\n"
     ]
    },
    {
     "name": "stderr",
     "output_type": "stream",
     "text": [
      " 60%|██████████████████████████████████████████████████████████████████████████▍                                                 | 18/30 [04:09<02:52, 14.35s/it]"
     ]
    },
    {
     "name": "stdout",
     "output_type": "stream",
     "text": [
      "Evaluating user split: test with filter {'year': 2017}\n"
     ]
    },
    {
     "name": "stderr",
     "output_type": "stream",
     "text": [
      " 63%|██████████████████████████████████████████████████████████████████████████████▌                                             | 19/30 [04:24<02:39, 14.50s/it]"
     ]
    },
    {
     "name": "stdout",
     "output_type": "stream",
     "text": [
      "Evaluating user split: test with filter {'region': 'Asia'}\n"
     ]
    },
    {
     "name": "stderr",
     "output_type": "stream",
     "text": [
      " 67%|██████████████████████████████████████████████████████████████████████████████████▋                                         | 20/30 [04:37<02:23, 14.33s/it]"
     ]
    },
    {
     "name": "stdout",
     "output_type": "stream",
     "text": [
      "Evaluating user split: test with filter {'region': 'Europe'}\n"
     ]
    },
    {
     "name": "stderr",
     "output_type": "stream",
     "text": [
      " 70%|██████████████████████████████████████████████████████████████████████████████████████▊                                     | 21/30 [04:52<02:08, 14.27s/it]"
     ]
    },
    {
     "name": "stdout",
     "output_type": "stream",
     "text": [
      "Evaluating user split: test with filter {'region': 'Africa'}\n"
     ]
    },
    {
     "name": "stderr",
     "output_type": "stream",
     "text": [
      " 73%|██████████████████████████████████████████████████████████████████████████████████████████▉                                 | 22/30 [05:05<01:51, 13.92s/it]"
     ]
    },
    {
     "name": "stdout",
     "output_type": "stream",
     "text": [
      "Evaluating user split: test with filter {'region': 'Americas'}\n"
     ]
    },
    {
     "name": "stderr",
     "output_type": "stream",
     "text": [
      " 77%|███████████████████████████████████████████████████████████████████████████████████████████████                             | 23/30 [05:19<01:39, 14.17s/it]"
     ]
    },
    {
     "name": "stdout",
     "output_type": "stream",
     "text": [
      "Evaluating user split: test with filter {'region': 'Oceania'}\n"
     ]
    },
    {
     "name": "stderr",
     "output_type": "stream",
     "text": [
      " 80%|███████████████████████████████████████████████████████████████████████████████████████████████████▏                        | 24/30 [05:33<01:23, 13.86s/it]"
     ]
    },
    {
     "name": "stdout",
     "output_type": "stream",
     "text": [
      "Evaluating user split: test with filter {'region': 'Europe', 'year': 2016}\n"
     ]
    },
    {
     "name": "stderr",
     "output_type": "stream",
     "text": [
      " 83%|███████████████████████████████████████████████████████████████████████████████████████████████████████▎                    | 25/30 [05:47<01:09, 13.91s/it]"
     ]
    },
    {
     "name": "stdout",
     "output_type": "stream",
     "text": [
      "Evaluating user split: test with filter {'region': 'Europe', 'year': 2017}\n"
     ]
    },
    {
     "name": "stderr",
     "output_type": "stream",
     "text": [
      " 87%|███████████████████████████████████████████████████████████████████████████████████████████████████████████▍                | 26/30 [05:59<00:54, 13.55s/it]"
     ]
    },
    {
     "name": "stdout",
     "output_type": "stream",
     "text": [
      "Evaluating user split: test with filter {'region': 'Asia', 'year': 2016}\n"
     ]
    },
    {
     "name": "stderr",
     "output_type": "stream",
     "text": [
      " 90%|███████████████████████████████████████████████████████████████████████████████████████████████████████████████▌            | 27/30 [06:13<00:40, 13.49s/it]"
     ]
    },
    {
     "name": "stdout",
     "output_type": "stream",
     "text": [
      "Evaluating user split: test with filter {'region': 'Asia', 'year': 2017}\n"
     ]
    },
    {
     "name": "stderr",
     "output_type": "stream",
     "text": [
      " 93%|███████████████████████████████████████████████████████████████████████████████████████████████████████████████████▋        | 28/30 [06:26<00:26, 13.45s/it]"
     ]
    },
    {
     "name": "stdout",
     "output_type": "stream",
     "text": [
      "Evaluating user split: test with filter {'region': 'Americas', 'year': 2016}\n"
     ]
    },
    {
     "name": "stderr",
     "output_type": "stream",
     "text": [
      " 97%|███████████████████████████████████████████████████████████████████████████████████████████████████████████████████████▊    | 29/30 [06:40<00:13, 13.66s/it]"
     ]
    },
    {
     "name": "stdout",
     "output_type": "stream",
     "text": [
      "Evaluating user split: test with filter {'region': 'Americas', 'year': 2017}\n"
     ]
    },
    {
     "name": "stderr",
     "output_type": "stream",
     "text": [
      "100%|████████████████████████████████████████████████████████████████████████████████████████████████████████████████████████████| 30/30 [06:53<00:00, 13.79s/it]\n",
      "  0%|                                                                                                                                     | 0/30 [00:00<?, ?it/s]"
     ]
    },
    {
     "name": "stdout",
     "output_type": "stream",
     "text": [
      "Evaluating user split: val with filter {'year': [2013]}\n"
     ]
    },
    {
     "name": "stderr",
     "output_type": "stream",
     "text": [
      "  3%|████▏                                                                                                                        | 1/30 [00:13<06:36, 13.68s/it]"
     ]
    },
    {
     "name": "stdout",
     "output_type": "stream",
     "text": [
      "Evaluating user split: val with filter {'year': [2014]}\n"
     ]
    },
    {
     "name": "stderr",
     "output_type": "stream",
     "text": [
      "  7%|████████▎                                                                                                                    | 2/30 [00:28<06:37, 14.19s/it]"
     ]
    },
    {
     "name": "stdout",
     "output_type": "stream",
     "text": [
      "Evaluating user split: val with filter {'year': [2015]}\n"
     ]
    },
    {
     "name": "stderr",
     "output_type": "stream",
     "text": [
      " 10%|████████████▌                                                                                                                | 3/30 [00:44<06:46, 15.05s/it]"
     ]
    },
    {
     "name": "stdout",
     "output_type": "stream",
     "text": [
      "Evaluating user split: val with filter {'region': ['Asia']}\n"
     ]
    },
    {
     "name": "stderr",
     "output_type": "stream",
     "text": [
      " 13%|████████████████▋                                                                                                            | 4/30 [00:58<06:17, 14.53s/it]"
     ]
    },
    {
     "name": "stdout",
     "output_type": "stream",
     "text": [
      "Evaluating user split: val with filter {'region': ['Europe']}\n"
     ]
    },
    {
     "name": "stderr",
     "output_type": "stream",
     "text": [
      " 17%|████████████████████▊                                                                                                        | 5/30 [01:12<06:05, 14.62s/it]"
     ]
    },
    {
     "name": "stdout",
     "output_type": "stream",
     "text": [
      "Evaluating user split: val with filter {'region': ['Africa']}\n"
     ]
    },
    {
     "name": "stderr",
     "output_type": "stream",
     "text": [
      " 20%|█████████████████████████                                                                                                    | 6/30 [01:25<05:37, 14.05s/it]"
     ]
    },
    {
     "name": "stdout",
     "output_type": "stream",
     "text": [
      "Evaluating user split: val with filter {'region': ['Americas']}\n"
     ]
    },
    {
     "name": "stderr",
     "output_type": "stream",
     "text": [
      " 23%|█████████████████████████████▏                                                                                               | 7/30 [01:40<05:29, 14.34s/it]"
     ]
    },
    {
     "name": "stdout",
     "output_type": "stream",
     "text": [
      "Evaluating user split: val with filter {'region': ['Oceania']}\n"
     ]
    },
    {
     "name": "stderr",
     "output_type": "stream",
     "text": [
      " 27%|█████████████████████████████████▎                                                                                           | 8/30 [01:53<05:03, 13.80s/it]"
     ]
    },
    {
     "name": "stdout",
     "output_type": "stream",
     "text": [
      "Evaluating user split: val with filter {'region': 'Europe', 'year': 2013}\n"
     ]
    },
    {
     "name": "stderr",
     "output_type": "stream",
     "text": [
      " 30%|█████████████████████████████████████▌                                                                                       | 9/30 [02:06<04:44, 13.56s/it]"
     ]
    },
    {
     "name": "stdout",
     "output_type": "stream",
     "text": [
      "Evaluating user split: val with filter {'region': 'Europe', 'year': 2014}\n"
     ]
    },
    {
     "name": "stderr",
     "output_type": "stream",
     "text": [
      " 33%|█████████████████████████████████████████▎                                                                                  | 10/30 [02:19<04:29, 13.48s/it]"
     ]
    },
    {
     "name": "stdout",
     "output_type": "stream",
     "text": [
      "Evaluating user split: val with filter {'region': 'Europe', 'year': 2015}\n"
     ]
    },
    {
     "name": "stderr",
     "output_type": "stream",
     "text": [
      " 37%|█████████████████████████████████████████████▍                                                                              | 11/30 [02:33<04:17, 13.53s/it]"
     ]
    },
    {
     "name": "stdout",
     "output_type": "stream",
     "text": [
      "Evaluating user split: val with filter {'region': 'Asia', 'year': 2013}\n"
     ]
    },
    {
     "name": "stderr",
     "output_type": "stream",
     "text": [
      " 40%|█████████████████████████████████████████████████▌                                                                          | 12/30 [02:46<04:01, 13.44s/it]"
     ]
    },
    {
     "name": "stdout",
     "output_type": "stream",
     "text": [
      "Evaluating user split: val with filter {'region': 'Asia', 'year': 2014}\n"
     ]
    },
    {
     "name": "stderr",
     "output_type": "stream",
     "text": [
      " 43%|█████████████████████████████████████████████████████▋                                                                      | 13/30 [02:59<03:45, 13.27s/it]"
     ]
    },
    {
     "name": "stdout",
     "output_type": "stream",
     "text": [
      "Evaluating user split: val with filter {'region': 'Asia', 'year': 2015}\n"
     ]
    },
    {
     "name": "stderr",
     "output_type": "stream",
     "text": [
      " 47%|█████████████████████████████████████████████████████████▊                                                                  | 14/30 [03:12<03:31, 13.24s/it]"
     ]
    },
    {
     "name": "stdout",
     "output_type": "stream",
     "text": [
      "Evaluating user split: val with filter {'region': 'Americas', 'year': 2013}\n"
     ]
    },
    {
     "name": "stderr",
     "output_type": "stream",
     "text": [
      " 50%|██████████████████████████████████████████████████████████████                                                              | 15/30 [03:25<03:16, 13.10s/it]"
     ]
    },
    {
     "name": "stdout",
     "output_type": "stream",
     "text": [
      "Evaluating user split: val with filter {'region': 'Americas', 'year': 2014}\n"
     ]
    },
    {
     "name": "stderr",
     "output_type": "stream",
     "text": [
      " 53%|██████████████████████████████████████████████████████████████████▏                                                         | 16/30 [03:38<03:03, 13.08s/it]"
     ]
    },
    {
     "name": "stdout",
     "output_type": "stream",
     "text": [
      "Evaluating user split: val with filter {'region': 'Americas', 'year': 2015}\n"
     ]
    },
    {
     "name": "stderr",
     "output_type": "stream",
     "text": [
      " 57%|██████████████████████████████████████████████████████████████████████▎                                                     | 17/30 [03:52<02:54, 13.41s/it]"
     ]
    },
    {
     "name": "stdout",
     "output_type": "stream",
     "text": [
      "Evaluating user split: test with filter {'year': 2016}\n"
     ]
    },
    {
     "name": "stderr",
     "output_type": "stream",
     "text": [
      " 60%|██████████████████████████████████████████████████████████████████████████▍                                                 | 18/30 [04:09<02:53, 14.42s/it]"
     ]
    },
    {
     "name": "stdout",
     "output_type": "stream",
     "text": [
      "Evaluating user split: test with filter {'year': 2017}\n"
     ]
    },
    {
     "name": "stderr",
     "output_type": "stream",
     "text": [
      " 63%|██████████████████████████████████████████████████████████████████████████████▌                                             | 19/30 [04:23<02:38, 14.37s/it]"
     ]
    },
    {
     "name": "stdout",
     "output_type": "stream",
     "text": [
      "Evaluating user split: test with filter {'region': 'Asia'}\n"
     ]
    },
    {
     "name": "stderr",
     "output_type": "stream",
     "text": [
      " 67%|██████████████████████████████████████████████████████████████████████████████████▋                                         | 20/30 [04:37<02:21, 14.19s/it]"
     ]
    },
    {
     "name": "stdout",
     "output_type": "stream",
     "text": [
      "Evaluating user split: test with filter {'region': 'Europe'}\n"
     ]
    },
    {
     "name": "stderr",
     "output_type": "stream",
     "text": [
      " 70%|██████████████████████████████████████████████████████████████████████████████████████▊                                     | 21/30 [04:52<02:09, 14.37s/it]"
     ]
    },
    {
     "name": "stdout",
     "output_type": "stream",
     "text": [
      "Evaluating user split: test with filter {'region': 'Africa'}\n"
     ]
    },
    {
     "name": "stderr",
     "output_type": "stream",
     "text": [
      " 73%|██████████████████████████████████████████████████████████████████████████████████████████▉                                 | 22/30 [05:05<01:52, 14.02s/it]"
     ]
    },
    {
     "name": "stdout",
     "output_type": "stream",
     "text": [
      "Evaluating user split: test with filter {'region': 'Americas'}\n"
     ]
    },
    {
     "name": "stderr",
     "output_type": "stream",
     "text": [
      " 77%|███████████████████████████████████████████████████████████████████████████████████████████████                             | 23/30 [05:20<01:39, 14.28s/it]"
     ]
    },
    {
     "name": "stdout",
     "output_type": "stream",
     "text": [
      "Evaluating user split: test with filter {'region': 'Oceania'}\n"
     ]
    },
    {
     "name": "stderr",
     "output_type": "stream",
     "text": [
      " 80%|███████████████████████████████████████████████████████████████████████████████████████████████████▏                        | 24/30 [05:32<01:22, 13.75s/it]"
     ]
    },
    {
     "name": "stdout",
     "output_type": "stream",
     "text": [
      "Evaluating user split: test with filter {'region': 'Europe', 'year': 2016}\n"
     ]
    },
    {
     "name": "stderr",
     "output_type": "stream",
     "text": [
      " 83%|███████████████████████████████████████████████████████████████████████████████████████████████████████▎                    | 25/30 [05:46<01:09, 13.86s/it]"
     ]
    },
    {
     "name": "stdout",
     "output_type": "stream",
     "text": [
      "Evaluating user split: test with filter {'region': 'Europe', 'year': 2017}\n"
     ]
    },
    {
     "name": "stderr",
     "output_type": "stream",
     "text": [
      " 87%|███████████████████████████████████████████████████████████████████████████████████████████████████████████▍                | 26/30 [05:59<00:54, 13.56s/it]"
     ]
    },
    {
     "name": "stdout",
     "output_type": "stream",
     "text": [
      "Evaluating user split: test with filter {'region': 'Asia', 'year': 2016}\n"
     ]
    },
    {
     "name": "stderr",
     "output_type": "stream",
     "text": [
      " 90%|███████████████████████████████████████████████████████████████████████████████████████████████████████████████▌            | 27/30 [06:13<00:40, 13.55s/it]"
     ]
    },
    {
     "name": "stdout",
     "output_type": "stream",
     "text": [
      "Evaluating user split: test with filter {'region': 'Asia', 'year': 2017}\n"
     ]
    },
    {
     "name": "stderr",
     "output_type": "stream",
     "text": [
      " 93%|███████████████████████████████████████████████████████████████████████████████████████████████████████████████████▋        | 28/30 [06:26<00:26, 13.40s/it]"
     ]
    },
    {
     "name": "stdout",
     "output_type": "stream",
     "text": [
      "Evaluating user split: test with filter {'region': 'Americas', 'year': 2016}\n"
     ]
    },
    {
     "name": "stderr",
     "output_type": "stream",
     "text": [
      " 97%|███████████████████████████████████████████████████████████████████████████████████████████████████████████████████████▊    | 29/30 [06:40<00:13, 13.63s/it]"
     ]
    },
    {
     "name": "stdout",
     "output_type": "stream",
     "text": [
      "Evaluating user split: test with filter {'region': 'Americas', 'year': 2017}\n"
     ]
    },
    {
     "name": "stderr",
     "output_type": "stream",
     "text": [
      "100%|████████████████████████████████████████████████████████████████████████████████████████████████████████████████████████████| 30/30 [06:54<00:00, 13.80s/it]\n"
     ]
    }
   ],
   "source": [
    "import pickle\n",
    "import random\n",
    "\n",
    "import numpy as np\n",
    "import pandas as pd\n",
    "import torch\n",
    "from tqdm import tqdm\n",
    "\n",
    "from suitability.filter.suitability_efficient import SuitabilityFilter\n",
    "from suitability.filter.tests import non_inferiority_ttest\n",
    "\n",
    "# Set seeds for reproducibility\n",
    "random.seed(32)\n",
    "np.random.seed(32)\n",
    "\n",
    "# Configuration\n",
    "data_name = \"fmow\"\n",
    "root_dir = \"/mfsnic/projects/suitability/\"\n",
    "device = torch.device(\"cuda\" if torch.cuda.is_available() else \"cpu\")\n",
    "\n",
    "# Load the model\n",
    "algorithm = \"ERM\"\n",
    "model_type = \"last\"\n",
    "seeds = [0, 1, 2]\n",
    "\n",
    "for seed in seeds:\n",
    "    # Load the features\n",
    "    feature_cache_file = (\n",
    "        f\"suitability/results/features/{data_name}_{algorithm}_{model_type}_{seed}.pkl\"\n",
    "    )\n",
    "    with open(feature_cache_file, \"rb\") as f:\n",
    "        full_feature_dict = pickle.load(f)\n",
    "\n",
    "    # Load the split indices\n",
    "    split_cache_file = f\"suitability/results/split_indices/{data_name}_ood.pkl\"\n",
    "    with open(split_cache_file, \"rb\") as f:\n",
    "        ood_split_dict = pickle.load(f)\n",
    "\n",
    "    # Define suitability filter and experiment parameters\n",
    "    classifiers = [\n",
    "        \"logistic_regression\"\n",
    "    ]  # \"logistic_regression\", \"svm\", \"random_forest\", \"gradient_boosting\", \"mlp\", \"decision_tree\"]\n",
    "    margins = [0, 0.005, 0.01, 0.05]\n",
    "    normalize = True\n",
    "    calibrated = True\n",
    "    sf_results = []\n",
    "    direct_testing_results = []\n",
    "    feature_subsets = [\n",
    "        # [0],\n",
    "        # [1],\n",
    "        # [2],\n",
    "        # [3],\n",
    "        # [4],\n",
    "        # [5],\n",
    "        # [6],\n",
    "        # [7],\n",
    "        # [8],\n",
    "        # [9],\n",
    "        # [10],\n",
    "        # [11],\n",
    "        # [4, 11],\n",
    "        # [4, 11, 8],\n",
    "        # [4, 11, 8, 6],\n",
    "        # [4, 11, 8, 6, 2],\n",
    "        # [4, 11, 8, 6, 2, 1],\n",
    "        # [4, 11, 8, 6, 2, 1, 0],\n",
    "        # [4, 11, 8, 6, 2, 1, 0, 7],\n",
    "        # [4, 11, 8, 6, 2, 1, 0, 7, 3],\n",
    "        # [4, 11, 8, 6, 2, 1, 0, 7, 3, 10],\n",
    "        # [4, 11, 8, 6, 2, 1, 0, 7, 3, 10, 5],\n",
    "        [0, 1, 2, 3, 4, 5, 6, 7, 8, 9, 10, 11],\n",
    "    ]\n",
    "    num_fold_arr = [15]\n",
    "\n",
    "    id_features_val, id_corr_val = full_feature_dict[\"id_val\"]\n",
    "    id_features_test, id_corr_test = full_feature_dict[\"id_test\"]\n",
    "    source_features = np.concatenate([id_features_val, id_features_test], axis=0)\n",
    "    source_corr = np.concatenate([id_corr_val, id_corr_test], axis=0)\n",
    "\n",
    "\n",
    "    # Main loop\n",
    "    for user_split_name, user_filter in tqdm(ood_split_dict.keys()):\n",
    "        print(f\"Evaluating user split: {user_split_name} with filter {user_filter}\")\n",
    "\n",
    "        # Get user split indices\n",
    "        user_split_indices = ood_split_dict[(user_split_name, user_filter)]\n",
    "\n",
    "        # Get user split features and correctness\n",
    "        all_features, all_corr = full_feature_dict[user_split_name]\n",
    "        user_features = all_features[user_split_indices]\n",
    "        user_corr = all_corr[user_split_indices]\n",
    "        user_size = len(user_corr)\n",
    "        user_acc = np.mean(user_corr)\n",
    "\n",
    "        for num_folds in num_fold_arr:\n",
    "            source_fold_size = len(source_corr) // num_folds\n",
    "            indices = np.arange(len(source_corr))\n",
    "            np.random.shuffle(indices)\n",
    "            fold_indices = [\n",
    "                indices[i * source_fold_size : (i + 1) * source_fold_size]\n",
    "                for i in range(num_folds)\n",
    "            ]\n",
    "\n",
    "            for i, reg_indices in enumerate(fold_indices):\n",
    "                reg_features = source_features[reg_indices]\n",
    "                reg_corr = source_corr[reg_indices]\n",
    "                reg_size = len(reg_corr)\n",
    "                reg_acc = np.mean(reg_corr)\n",
    "\n",
    "                for j, test_indices in enumerate(fold_indices):\n",
    "                    if i == j:\n",
    "                        continue\n",
    "                    test_features = source_features[test_indices]\n",
    "                    test_corr = source_corr[test_indices]\n",
    "                    test_size = len(test_corr)\n",
    "                    test_acc = np.mean(test_corr)\n",
    "\n",
    "                    for classifier in classifiers:\n",
    "                        for feature_subset in feature_subsets:\n",
    "                            suitability_filter = SuitabilityFilter(\n",
    "                                test_features,\n",
    "                                test_corr,\n",
    "                                reg_features,\n",
    "                                reg_corr,\n",
    "                                device,\n",
    "                                normalize=normalize,\n",
    "                                feature_subset=feature_subset,\n",
    "                            )\n",
    "                            suitability_filter.train_classifier(\n",
    "                                calibrated=calibrated, classifier=classifier\n",
    "                            )\n",
    "\n",
    "                            for margin in margins:\n",
    "                                # Test suitability filter\n",
    "                                sf_test = suitability_filter.suitability_test(\n",
    "                                    user_features=user_features, margin=margin, return_predictions=True\n",
    "                                )\n",
    "                                p_value = sf_test[\"p_value\"]\n",
    "                                ground_truth = user_acc >= test_acc - margin\n",
    "\n",
    "                                pred_user = sf_test[\"user_predictions\"]\n",
    "                                pred_test = sf_test[\"test_predictions\"]\n",
    "\n",
    "                                # Calculate ECE and CB\n",
    "                                ece_user, cb_user = calculate_ece_and_bias(\n",
    "                                    pred_user, user_corr\n",
    "                                )\n",
    "                                ece_test, cb_test = calculate_ece_and_bias(\n",
    "                                    pred_test, test_corr\n",
    "                                )\n",
    "\n",
    "                                sf_results.append(\n",
    "                                    {\n",
    "                                        \"data_name\": data_name,\n",
    "                                        \"algorithm\": algorithm,\n",
    "                                        \"seed\": seed,\n",
    "                                        \"model_type\": model_type,\n",
    "                                        \"normalize\": normalize,\n",
    "                                        \"calibrated\": calibrated,\n",
    "                                        \"margin\": margin,\n",
    "                                        \"reg_fold\": i,\n",
    "                                        \"reg_size\": reg_size,\n",
    "                                        \"reg_acc\": reg_acc,\n",
    "                                        \"test_fold\": j,\n",
    "                                        \"test_size\": test_size,\n",
    "                                        \"test_acc\": test_acc,\n",
    "                                        \"user_split\": user_split_name,\n",
    "                                        \"user_filter\": user_filter,\n",
    "                                        \"user_size\": user_size,\n",
    "                                        \"user_acc\": user_acc,\n",
    "                                        \"p_value\": p_value,\n",
    "                                        \"ground_truth\": ground_truth,\n",
    "                                        \"classifier\": classifier,\n",
    "                                        \"feature_subset\": feature_subset,\n",
    "                                        \"acc_diff\": user_acc - test_acc,\n",
    "                                        \"acc_diff_adjusted\": user_acc + margin - test_acc,\n",
    "                                        \"ece_user\": ece_user,\n",
    "                                        \"cb_user\": cb_user,\n",
    "                                        \"ece_test\": ece_test,\n",
    "                                        \"cb_test\": cb_test,\n",
    "                                        \"mean_pred_user\": np.mean(pred_user),\n",
    "                                        \"mean_pred_test\": np.mean(pred_test),\n",
    "                                        \"std_pred_user\": np.std(pred_user),\n",
    "                                        \"std_pred_test\": np.std(pred_test),\n",
    "                                    }\n",
    "                                )\n",
    "\n",
    "                                # Run non-inferiority test on features directly\n",
    "                                # if (\n",
    "                                #     len(feature_subset) == 1\n",
    "                                #     and margin == 0\n",
    "                                #     and classifier == \"logistic_regression\"\n",
    "                                #     and (j == 0 or (i == 0 and j == 1))\n",
    "                                # ):\n",
    "                                #     test_feature_subset = test_features[:, feature_subset].flatten()\n",
    "                                #     user_feature_subset = user_features[:, feature_subset].flatten()\n",
    "                                #     test_1 = non_inferiority_ttest(\n",
    "                                #         test_feature_subset,\n",
    "                                #         user_feature_subset,\n",
    "                                #         increase_good=True,\n",
    "                                #     )\n",
    "                                #     test_2 = non_inferiority_ttest(\n",
    "                                #         test_feature_subset,\n",
    "                                #         user_feature_subset,\n",
    "                                #         increase_good=False,\n",
    "                                #     )\n",
    "                                #     direct_testing_results.append(\n",
    "                                #         {\n",
    "                                #             \"data_name\": data_name,\n",
    "                                #             \"algorithm\": algorithm,\n",
    "                                #             \"seed\": seed,\n",
    "                                #             \"model_type\": model_type,\n",
    "                                #             \"test_fold\": j,\n",
    "                                #             \"test_size\": test_size,\n",
    "                                #             \"test_acc\": test_acc,\n",
    "                                #             \"user_split\": user_split_name,\n",
    "                                #             \"user_filter\": user_filter,\n",
    "                                #             \"user_size\": user_size,\n",
    "                                #             \"user_acc\": user_acc,\n",
    "                                #             \"p_value_increase_good\": test_1[\"p_value\"],\n",
    "                                #             \"p_value_decrease_good\": test_2[\"p_value\"],\n",
    "                                #             \"ground_truth\": ground_truth,\n",
    "                                #             \"feature_subset\": feature_subset,\n",
    "                                #             \"acc_diff\": user_acc - test_acc,\n",
    "                                #         }\n",
    "                                #     )\n",
    "\n",
    "    # Save results\n",
    "    sf_evals = pd.DataFrame(sf_results)\n",
    "    sf_evals.to_csv(\n",
    "        f\"suitability/results/sf_evals/erm/fmow_sf_results_ood_calibration_{algorithm}_{model_type}_{seed}_FINAL.csv\",\n",
    "        index=False,\n",
    "    )\n",
    "    # direct_testing_evals = pd.DataFrame(direct_testing_results)\n",
    "    # direct_testing_evals.to_csv(\n",
    "    #     f\"suitability/results/sf_evals/erm/fmow_direct_testing_results_ood_subsets_{algorithm}_{model_type}_{seed}_NEW.csv\",\n",
    "    #     index=False,\n",
    "    # )\n"
   ]
  },
  {
   "cell_type": "code",
   "execution_count": null,
   "metadata": {},
   "outputs": [],
   "source": []
  }
 ],
 "metadata": {
  "kernelspec": {
   "display_name": "Python 3 (ipykernel)",
   "language": "python",
   "name": "python3"
  }
 },
 "nbformat": 4,
 "nbformat_minor": 2
}
