{
 "cells": [
  {
   "cell_type": "markdown",
   "metadata": {},
   "source": [
    "# Suitability Filter Experiments"
   ]
  },
  {
   "cell_type": "code",
   "execution_count": 140,
   "metadata": {},
   "outputs": [],
   "source": [
    "import importlib\n",
    "import random\n",
    "\n",
    "import matplotlib.pyplot as plt\n",
    "import numpy as np\n",
    "import pandas as pd\n",
    "import shap\n",
    "import torch\n",
    "import torchvision\n",
    "import torchvision.transforms as transforms\n",
    "from examples.models.initializer import initialize_torchvision_model\n",
    "from torch.utils.data import DataLoader, random_split, Dataset, Subset\n",
    "from torchvision.models import ResNet50_Weights, resnet50\n",
    "\n",
    "import suitability.filter.tests as ftests\n",
    "from suitability.datasets.wilds import get_wilds_dataset\n",
    "from suitability.filter import suitability\n",
    "\n",
    "importlib.reload(suitability)\n",
    "\n",
    "from suitability.filter.suitability import SuitabilityFilter\n",
    "\n",
    "random.seed(32)\n",
    "np.random.seed(32)"
   ]
  },
  {
   "cell_type": "markdown",
   "metadata": {},
   "source": [
    "## Define data and model"
   ]
  },
  {
   "cell_type": "code",
   "execution_count": 141,
   "metadata": {},
   "outputs": [],
   "source": [
    "root_dir = \"/mfsnic/datasets/imagenet/\"\n",
    "device = torch.device(\"cuda\" if torch.cuda.is_available() else \"cpu\")\n",
    "\n",
    "model = resnet50(weights=ResNet50_Weights.IMAGENET1K_V2)\n",
    "model = model.to(device)\n",
    "model.eval()\n",
    "\n",
    "transform = transforms.Compose([\n",
    "    transforms.Resize(size=(232, 232), interpolation=transforms.InterpolationMode.BILINEAR),\n",
    "    transforms.CenterCrop(size=(224, 224)),\n",
    "    transforms.ToTensor(),  # Convert to Tensor and scale to [0, 1]\n",
    "    transforms.Normalize(mean=[0.485, 0.456, 0.406], std=[0.229, 0.224, 0.225])  # Normalize\n",
    "])\n",
    "\n",
    "imagenet_data = torchvision.datasets.ImageNet(root_dir, split=\"val\", transform=transform)\n",
    "test, regressor, user = random_split(imagenet_data, [0.25, 0.25, 0.5])\n",
    "test_data = DataLoader(test, batch_size=64, shuffle=False, num_workers=4)\n",
    "regressor_data = DataLoader(regressor, batch_size=64, shuffle=True, num_workers=4)"
   ]
  },
  {
   "cell_type": "markdown",
   "metadata": {},
   "source": [
    "## Initialize suitability filter"
   ]
  },
  {
   "cell_type": "code",
   "execution_count": 142,
   "metadata": {},
   "outputs": [],
   "source": [
    "suitability_filter = SuitabilityFilter(model, test_data, regressor_data, device)\n",
    "test_features, test_corr = suitability_filter.get_features(test_data)\n",
    "suitability_filter.train_regressor()"
   ]
  },
  {
   "cell_type": "markdown",
   "metadata": {},
   "source": [
    "## Evaluate the suitability filter"
   ]
  },
  {
   "cell_type": "markdown",
   "metadata": {},
   "source": [
    "### IID Evaluation"
   ]
  },
  {
   "cell_type": "code",
   "execution_count": 143,
   "metadata": {},
   "outputs": [],
   "source": [
    "dataloader = DataLoader(user, batch_size=64, shuffle=False, num_workers=4)\n",
    "_, correctness = suitability_filter.get_features(dataloader)"
   ]
  },
  {
   "cell_type": "code",
   "execution_count": 144,
   "metadata": {},
   "outputs": [],
   "source": [
    "def split_dataset_into_folds(dataset, correctness, n_subsets: int = 10):\n",
    "    # Define target accuracies\n",
    "    target_accuracies = np.linspace(0.75, 0.84, n_subsets)  # From 30% to 75%\n",
    "    total_samples = len(correctness)\n",
    "    \n",
    "    # Shuffle the indices and the correctness array\n",
    "    indices = np.random.permutation(total_samples)\n",
    "    shuffled_correctness = correctness[indices]\n",
    "\n",
    "    # Initialize subsets\n",
    "    folds = []\n",
    "    subsets_correctness = []\n",
    "\n",
    "    start_idx = 0\n",
    "    for i, target_accuracy in enumerate(target_accuracies):\n",
    "        # Calculate the number of correct and incorrect samples needed for the subset\n",
    "        subset_size = total_samples // n_subsets\n",
    "        n_correct = int(subset_size * target_accuracy)\n",
    "        n_incorrect = subset_size - n_correct\n",
    "\n",
    "        # Find the correct/incorrect samples in the shuffled data\n",
    "        remaining_correct_indices = np.where(shuffled_correctness[start_idx:] == 1)[0]\n",
    "        remaining_incorrect_indices = np.where(shuffled_correctness[start_idx:] == 0)[0]\n",
    "\n",
    "        # Adjust n_correct and n_incorrect based on available samples\n",
    "        n_correct = min(n_correct, len(remaining_correct_indices))\n",
    "        n_incorrect = min(n_incorrect, len(remaining_incorrect_indices))\n",
    "\n",
    "        # Get the actual indices for the current subset\n",
    "        correct_indices = remaining_correct_indices[:n_correct]\n",
    "        incorrect_indices = remaining_incorrect_indices[:n_incorrect]\n",
    "\n",
    "        # Get the final indices for the current subset\n",
    "        subset_indices = np.concatenate((correct_indices, incorrect_indices)) + start_idx\n",
    "        \n",
    "        # Extract the correctness for the current subset\n",
    "        folds.append(Subset(dataset, indices[subset_indices]))\n",
    "        subsets_correctness.append(np.mean(shuffled_correctness[subset_indices]))\n",
    "\n",
    "        # Move the start index forward\n",
    "        start_idx += len(subset_indices)\n",
    "\n",
    "    return folds, subsets_correctness"
   ]
  },
  {
   "cell_type": "code",
   "execution_count": 145,
   "metadata": {},
   "outputs": [],
   "source": [
    "# Construct suitability filter\n",
    "num_random_tries = 100\n",
    "num_folds = 10\n",
    "\n",
    "acs = np.zeros((num_random_tries, num_folds))\n",
    "corrs = np.zeros((num_random_tries, num_folds))\n",
    "p_vals = np.zeros((num_random_tries, num_folds))\n",
    "p_vals_margin = np.zeros((num_random_tries, num_folds))\n",
    "\n",
    "for j in range(num_random_tries):\n",
    "    folds, actual_accuracies = split_dataset_into_folds(user, correctness, n_subsets=num_folds)\n",
    "\n",
    "    for i, fold in enumerate(folds):\n",
    "        user_data = DataLoader(fold, batch_size=64, shuffle=False, num_workers=4)\n",
    "        user_features, user_corr = suitability_filter.get_features(user_data)\n",
    "        acs[j, i] = np.mean(user_features, axis=0)[1]\n",
    "        corrs[j, i] = np.mean(user_corr)\n",
    "        test = suitability_filter.suitability_test(user_features=user_features)\n",
    "        p_vals[j, i] = test['p_value']"
   ]
  },
  {
   "cell_type": "code",
   "execution_count": 146,
   "metadata": {},
   "outputs": [],
   "source": [
    "test_ac = np.mean(test_features, axis=0)[1]\n",
    "test_corr = np.mean(test_corr)"
   ]
  },
  {
   "cell_type": "code",
   "execution_count": 147,
   "metadata": {},
   "outputs": [
    {
     "name": "stdout",
     "output_type": "stream",
     "text": [
      "Fold 0 - Average accuracy: 0.7500 (compared to 0.7990 for test) - P-value: 0.9998\n",
      "Number of significant p-values: 0\n",
      "Number of acs > test_ac: 0\n",
      "Fold 1 - Average accuracy: 0.7600 (compared to 0.7990 for test) - P-value: 0.9994\n",
      "Number of significant p-values: 0\n",
      "Number of acs > test_ac: 0\n",
      "Fold 2 - Average accuracy: 0.7700 (compared to 0.7990 for test) - P-value: 0.9917\n",
      "Number of significant p-values: 0\n",
      "Number of acs > test_ac: 0\n",
      "Fold 3 - Average accuracy: 0.7800 (compared to 0.7990 for test) - P-value: 0.9499\n",
      "Number of significant p-values: 0\n",
      "Number of acs > test_ac: 0\n",
      "Fold 4 - Average accuracy: 0.7900 (compared to 0.7990 for test) - P-value: 0.9297\n",
      "Number of significant p-values: 0\n",
      "Number of acs > test_ac: 0\n",
      "Fold 5 - Average accuracy: 0.7996 (compared to 0.7990 for test) - P-value: 0.7058\n",
      "Number of significant p-values: 0\n",
      "Number of acs > test_ac: 4\n",
      "Fold 6 - Average accuracy: 0.8096 (compared to 0.7990 for test) - P-value: 0.5550\n",
      "Number of significant p-values: 0\n",
      "Number of acs > test_ac: 7\n",
      "Fold 7 - Average accuracy: 0.8200 (compared to 0.7990 for test) - P-value: 0.3615\n",
      "Number of significant p-values: 1\n",
      "Number of acs > test_ac: 8\n",
      "Fold 8 - Average accuracy: 0.8300 (compared to 0.7990 for test) - P-value: 0.2314\n",
      "Number of significant p-values: 0\n",
      "Number of acs > test_ac: 10\n",
      "Fold 9 - Average accuracy: 0.8335 (compared to 0.7990 for test) - P-value: 0.1365\n",
      "Number of significant p-values: 3\n",
      "Number of acs > test_ac: 10\n"
     ]
    }
   ],
   "source": [
    "x = []\n",
    "yp = []\n",
    "ya = []\n",
    "\n",
    "for i in range(num_folds):\n",
    "    x.append(corrs[:, i].mean())\n",
    "    yp.append(np.sum(p_vals[:, i] < 0.05))\n",
    "    ya.append(np.sum(acs[:, i] > test_ac))"
   ]
  },
  {
   "cell_type": "code",
   "execution_count": 149,
   "metadata": {},
   "outputs": [
    {
     "data": {
      "image/png": "[encoded data removed]",
      "text/plain": [
       "<Figure size 640x480 with 1 Axes>"
      ]
     },
     "metadata": {},
     "output_type": "display_data"
    }
   ],
   "source": [
    "plt.plot(x, yp, label=\"Number of significant p-values\")\n",
    "plt.plot(x, ya, label=\"Number of acs > test_ac\")\n",
    "plt.xlabel(\"Average accuracy\")\n",
    "plt.ylabel(\"Number of SUITABLE decisions\")\n",
    "plt.axvline(test_corr, color='r', linestyle='--', label=\"Test accuracy\")\n",
    "plt.legend()\n",
    "plt.show()"
   ]
  },
  {
   "cell_type": "code",
   "execution_count": null,
   "metadata": {},
   "outputs": [],
   "source": []
  }
 ],
 "metadata": {
  "kernelspec": {
   "display_name": "Python 3 (ipykernel)",
   "language": "python",
   "name": "python3"
  },
  "language_info": {
   "codemirror_mode": {
    "name": "ipython",
    "version": 3
   },
   "file_extension": ".py",
   "mimetype": "text/x-python",
   "name": "python",
   "nbconvert_exporter": "python",
   "pygments_lexer": "ipython3",
   "version": "3.11.9"
  }
 },
 "nbformat": 4,
 "nbformat_minor": 2
}
